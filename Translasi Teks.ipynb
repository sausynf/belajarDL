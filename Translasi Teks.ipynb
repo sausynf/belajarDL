{
  "cells": [
    {
      "cell_type": "markdown",
      "source": [
        "# Import Dataset"
      ],
      "metadata": {
        "id": "VJECV7p72udI"
      }
    },
    {
      "cell_type": "code",
      "execution_count": null,
      "metadata": {
        "id": "WnB4mysIJOSn",
        "colab": {
          "base_uri": "https://localhost:8080/",
          "height": 206
        },
        "outputId": "906890fd-6724-4740-e059-3d662ee0b7fd"
      },
      "outputs": [
        {
          "output_type": "execute_result",
          "data": {
            "text/plain": [
              "      ind   eng\n",
              "0    Hai.   Hi.\n",
              "1   Lari!  Run!\n",
              "2   Lari!  Run.\n",
              "3  Siapa?  Who?\n",
              "4    Wow!  Wow!"
            ],
            "text/html": [
              "\n",
              "  <div id=\"df-1288c9a6-c17f-4d0d-bf60-54c2e13a5299\" class=\"colab-df-container\">\n",
              "    <div>\n",
              "<style scoped>\n",
              "    .dataframe tbody tr th:only-of-type {\n",
              "        vertical-align: middle;\n",
              "    }\n",
              "\n",
              "    .dataframe tbody tr th {\n",
              "        vertical-align: top;\n",
              "    }\n",
              "\n",
              "    .dataframe thead th {\n",
              "        text-align: right;\n",
              "    }\n",
              "</style>\n",
              "<table border=\"1\" class=\"dataframe\">\n",
              "  <thead>\n",
              "    <tr style=\"text-align: right;\">\n",
              "      <th></th>\n",
              "      <th>ind</th>\n",
              "      <th>eng</th>\n",
              "    </tr>\n",
              "  </thead>\n",
              "  <tbody>\n",
              "    <tr>\n",
              "      <th>0</th>\n",
              "      <td>Hai.</td>\n",
              "      <td>Hi.</td>\n",
              "    </tr>\n",
              "    <tr>\n",
              "      <th>1</th>\n",
              "      <td>Lari!</td>\n",
              "      <td>Run!</td>\n",
              "    </tr>\n",
              "    <tr>\n",
              "      <th>2</th>\n",
              "      <td>Lari!</td>\n",
              "      <td>Run.</td>\n",
              "    </tr>\n",
              "    <tr>\n",
              "      <th>3</th>\n",
              "      <td>Siapa?</td>\n",
              "      <td>Who?</td>\n",
              "    </tr>\n",
              "    <tr>\n",
              "      <th>4</th>\n",
              "      <td>Wow!</td>\n",
              "      <td>Wow!</td>\n",
              "    </tr>\n",
              "  </tbody>\n",
              "</table>\n",
              "</div>\n",
              "    <div class=\"colab-df-buttons\">\n",
              "\n",
              "  <div class=\"colab-df-container\">\n",
              "    <button class=\"colab-df-convert\" onclick=\"convertToInteractive('df-1288c9a6-c17f-4d0d-bf60-54c2e13a5299')\"\n",
              "            title=\"Convert this dataframe to an interactive table.\"\n",
              "            style=\"display:none;\">\n",
              "\n",
              "  <svg xmlns=\"http://www.w3.org/2000/svg\" height=\"24px\" viewBox=\"0 -960 960 960\">\n",
              "    <path d=\"M120-120v-720h720v720H120Zm60-500h600v-160H180v160Zm220 220h160v-160H400v160Zm0 220h160v-160H400v160ZM180-400h160v-160H180v160Zm440 0h160v-160H620v160ZM180-180h160v-160H180v160Zm440 0h160v-160H620v160Z\"/>\n",
              "  </svg>\n",
              "    </button>\n",
              "\n",
              "  <style>\n",
              "    .colab-df-container {\n",
              "      display:flex;\n",
              "      gap: 12px;\n",
              "    }\n",
              "\n",
              "    .colab-df-convert {\n",
              "      background-color: #E8F0FE;\n",
              "      border: none;\n",
              "      border-radius: 50%;\n",
              "      cursor: pointer;\n",
              "      display: none;\n",
              "      fill: #1967D2;\n",
              "      height: 32px;\n",
              "      padding: 0 0 0 0;\n",
              "      width: 32px;\n",
              "    }\n",
              "\n",
              "    .colab-df-convert:hover {\n",
              "      background-color: #E2EBFA;\n",
              "      box-shadow: 0px 1px 2px rgba(60, 64, 67, 0.3), 0px 1px 3px 1px rgba(60, 64, 67, 0.15);\n",
              "      fill: #174EA6;\n",
              "    }\n",
              "\n",
              "    .colab-df-buttons div {\n",
              "      margin-bottom: 4px;\n",
              "    }\n",
              "\n",
              "    [theme=dark] .colab-df-convert {\n",
              "      background-color: #3B4455;\n",
              "      fill: #D2E3FC;\n",
              "    }\n",
              "\n",
              "    [theme=dark] .colab-df-convert:hover {\n",
              "      background-color: #434B5C;\n",
              "      box-shadow: 0px 1px 3px 1px rgba(0, 0, 0, 0.15);\n",
              "      filter: drop-shadow(0px 1px 2px rgba(0, 0, 0, 0.3));\n",
              "      fill: #FFFFFF;\n",
              "    }\n",
              "  </style>\n",
              "\n",
              "    <script>\n",
              "      const buttonEl =\n",
              "        document.querySelector('#df-1288c9a6-c17f-4d0d-bf60-54c2e13a5299 button.colab-df-convert');\n",
              "      buttonEl.style.display =\n",
              "        google.colab.kernel.accessAllowed ? 'block' : 'none';\n",
              "\n",
              "      async function convertToInteractive(key) {\n",
              "        const element = document.querySelector('#df-1288c9a6-c17f-4d0d-bf60-54c2e13a5299');\n",
              "        const dataTable =\n",
              "          await google.colab.kernel.invokeFunction('convertToInteractive',\n",
              "                                                    [key], {});\n",
              "        if (!dataTable) return;\n",
              "\n",
              "        const docLinkHtml = 'Like what you see? Visit the ' +\n",
              "          '<a target=\"_blank\" href=https://colab.research.google.com/notebooks/data_table.ipynb>data table notebook</a>'\n",
              "          + ' to learn more about interactive tables.';\n",
              "        element.innerHTML = '';\n",
              "        dataTable['output_type'] = 'display_data';\n",
              "        await google.colab.output.renderOutput(dataTable, element);\n",
              "        const docLink = document.createElement('div');\n",
              "        docLink.innerHTML = docLinkHtml;\n",
              "        element.appendChild(docLink);\n",
              "      }\n",
              "    </script>\n",
              "  </div>\n",
              "\n",
              "\n",
              "<div id=\"df-fd0a102d-fa5c-4d20-a67f-da7f5a669a50\">\n",
              "  <button class=\"colab-df-quickchart\" onclick=\"quickchart('df-fd0a102d-fa5c-4d20-a67f-da7f5a669a50')\"\n",
              "            title=\"Suggest charts\"\n",
              "            style=\"display:none;\">\n",
              "\n",
              "<svg xmlns=\"http://www.w3.org/2000/svg\" height=\"24px\"viewBox=\"0 0 24 24\"\n",
              "     width=\"24px\">\n",
              "    <g>\n",
              "        <path d=\"M19 3H5c-1.1 0-2 .9-2 2v14c0 1.1.9 2 2 2h14c1.1 0 2-.9 2-2V5c0-1.1-.9-2-2-2zM9 17H7v-7h2v7zm4 0h-2V7h2v10zm4 0h-2v-4h2v4z\"/>\n",
              "    </g>\n",
              "</svg>\n",
              "  </button>\n",
              "\n",
              "<style>\n",
              "  .colab-df-quickchart {\n",
              "      --bg-color: #E8F0FE;\n",
              "      --fill-color: #1967D2;\n",
              "      --hover-bg-color: #E2EBFA;\n",
              "      --hover-fill-color: #174EA6;\n",
              "      --disabled-fill-color: #AAA;\n",
              "      --disabled-bg-color: #DDD;\n",
              "  }\n",
              "\n",
              "  [theme=dark] .colab-df-quickchart {\n",
              "      --bg-color: #3B4455;\n",
              "      --fill-color: #D2E3FC;\n",
              "      --hover-bg-color: #434B5C;\n",
              "      --hover-fill-color: #FFFFFF;\n",
              "      --disabled-bg-color: #3B4455;\n",
              "      --disabled-fill-color: #666;\n",
              "  }\n",
              "\n",
              "  .colab-df-quickchart {\n",
              "    background-color: var(--bg-color);\n",
              "    border: none;\n",
              "    border-radius: 50%;\n",
              "    cursor: pointer;\n",
              "    display: none;\n",
              "    fill: var(--fill-color);\n",
              "    height: 32px;\n",
              "    padding: 0;\n",
              "    width: 32px;\n",
              "  }\n",
              "\n",
              "  .colab-df-quickchart:hover {\n",
              "    background-color: var(--hover-bg-color);\n",
              "    box-shadow: 0 1px 2px rgba(60, 64, 67, 0.3), 0 1px 3px 1px rgba(60, 64, 67, 0.15);\n",
              "    fill: var(--button-hover-fill-color);\n",
              "  }\n",
              "\n",
              "  .colab-df-quickchart-complete:disabled,\n",
              "  .colab-df-quickchart-complete:disabled:hover {\n",
              "    background-color: var(--disabled-bg-color);\n",
              "    fill: var(--disabled-fill-color);\n",
              "    box-shadow: none;\n",
              "  }\n",
              "\n",
              "  .colab-df-spinner {\n",
              "    border: 2px solid var(--fill-color);\n",
              "    border-color: transparent;\n",
              "    border-bottom-color: var(--fill-color);\n",
              "    animation:\n",
              "      spin 1s steps(1) infinite;\n",
              "  }\n",
              "\n",
              "  @keyframes spin {\n",
              "    0% {\n",
              "      border-color: transparent;\n",
              "      border-bottom-color: var(--fill-color);\n",
              "      border-left-color: var(--fill-color);\n",
              "    }\n",
              "    20% {\n",
              "      border-color: transparent;\n",
              "      border-left-color: var(--fill-color);\n",
              "      border-top-color: var(--fill-color);\n",
              "    }\n",
              "    30% {\n",
              "      border-color: transparent;\n",
              "      border-left-color: var(--fill-color);\n",
              "      border-top-color: var(--fill-color);\n",
              "      border-right-color: var(--fill-color);\n",
              "    }\n",
              "    40% {\n",
              "      border-color: transparent;\n",
              "      border-right-color: var(--fill-color);\n",
              "      border-top-color: var(--fill-color);\n",
              "    }\n",
              "    60% {\n",
              "      border-color: transparent;\n",
              "      border-right-color: var(--fill-color);\n",
              "    }\n",
              "    80% {\n",
              "      border-color: transparent;\n",
              "      border-right-color: var(--fill-color);\n",
              "      border-bottom-color: var(--fill-color);\n",
              "    }\n",
              "    90% {\n",
              "      border-color: transparent;\n",
              "      border-bottom-color: var(--fill-color);\n",
              "    }\n",
              "  }\n",
              "</style>\n",
              "\n",
              "  <script>\n",
              "    async function quickchart(key) {\n",
              "      const quickchartButtonEl =\n",
              "        document.querySelector('#' + key + ' button');\n",
              "      quickchartButtonEl.disabled = true;  // To prevent multiple clicks.\n",
              "      quickchartButtonEl.classList.add('colab-df-spinner');\n",
              "      try {\n",
              "        const charts = await google.colab.kernel.invokeFunction(\n",
              "            'suggestCharts', [key], {});\n",
              "      } catch (error) {\n",
              "        console.error('Error during call to suggestCharts:', error);\n",
              "      }\n",
              "      quickchartButtonEl.classList.remove('colab-df-spinner');\n",
              "      quickchartButtonEl.classList.add('colab-df-quickchart-complete');\n",
              "    }\n",
              "    (() => {\n",
              "      let quickchartButtonEl =\n",
              "        document.querySelector('#df-fd0a102d-fa5c-4d20-a67f-da7f5a669a50 button');\n",
              "      quickchartButtonEl.style.display =\n",
              "        google.colab.kernel.accessAllowed ? 'block' : 'none';\n",
              "    })();\n",
              "  </script>\n",
              "</div>\n",
              "    </div>\n",
              "  </div>\n"
            ]
          },
          "metadata": {},
          "execution_count": 1
        }
      ],
      "source": [
        "import pandas as pd\n",
        "import string\n",
        "import numpy as np\n",
        "\n",
        "# Karena dataset bentuknya file txt, bukan csv jadi tidak bisa kita buka dengan pandas. Kita harus modifikasi filenya supaya bisa dibaca oleh pandas\n",
        "# Buka file\n",
        "file = open(\"/content/ind.txt\").read()\n",
        "\n",
        "# Buat data dictionary untuk diubah menjadi pandas datafrmae\n",
        "data = {\n",
        "    'ind':[],\n",
        "    'eng':[]\n",
        "}\n",
        "\n",
        "\n",
        "for idx, kalimat in enumerate(file.split(\"\\n\")): # looping data setiap yang berakhiran '\\n'\n",
        "  kalimat = kalimat.split(\"\\t\")\n",
        "  if len(kalimat) == 3:\n",
        "    data['ind'].append(kalimat[1])\n",
        "    data['eng'].append(kalimat[0])\n",
        "\n",
        "# Membuat dataframe\n",
        "df = pd.DataFrame(data)\n",
        "df.head()"
      ]
    },
    {
      "cell_type": "code",
      "execution_count": null,
      "metadata": {
        "colab": {
          "base_uri": "https://localhost:8080/",
          "height": 206
        },
        "id": "bqU_NEf7E9sN",
        "outputId": "fabaef54-73fb-4f9d-c900-19ee0477a78e"
      },
      "outputs": [
        {
          "output_type": "execute_result",
          "data": {
            "text/plain": [
              "                                                     ind  \\\n",
              "13006  Ketika dia sudah selesai menyetrika, Mary mema...   \n",
              "13007  Ketika Tom berdiri untuk pidato, pikirannya ti...   \n",
              "13008  Januari, Februari, Maret, April, Mei, Juni, Ju...   \n",
              "13009  Irene Pepperberg, seorang peneliti di Universi...   \n",
              "13010  Jika seseorang tidak berkesempatan untuk mengu...   \n",
              "\n",
              "                                                     eng  \n",
              "13006  When she was finished ironing, Mary switched o...  \n",
              "13007  When he got up to make his speech, Tom's mind ...  \n",
              "13008  January, February, March, April, May, June, Ju...  \n",
              "13009  Irene Pepperberg, a researcher at Northwestern...  \n",
              "13010  If a person has not had a chance to acquire hi...  "
            ],
            "text/html": [
              "\n",
              "  <div id=\"df-39b5df48-d3dd-4c57-a473-fd1ec3ec699a\" class=\"colab-df-container\">\n",
              "    <div>\n",
              "<style scoped>\n",
              "    .dataframe tbody tr th:only-of-type {\n",
              "        vertical-align: middle;\n",
              "    }\n",
              "\n",
              "    .dataframe tbody tr th {\n",
              "        vertical-align: top;\n",
              "    }\n",
              "\n",
              "    .dataframe thead th {\n",
              "        text-align: right;\n",
              "    }\n",
              "</style>\n",
              "<table border=\"1\" class=\"dataframe\">\n",
              "  <thead>\n",
              "    <tr style=\"text-align: right;\">\n",
              "      <th></th>\n",
              "      <th>ind</th>\n",
              "      <th>eng</th>\n",
              "    </tr>\n",
              "  </thead>\n",
              "  <tbody>\n",
              "    <tr>\n",
              "      <th>13006</th>\n",
              "      <td>Ketika dia sudah selesai menyetrika, Mary mema...</td>\n",
              "      <td>When she was finished ironing, Mary switched o...</td>\n",
              "    </tr>\n",
              "    <tr>\n",
              "      <th>13007</th>\n",
              "      <td>Ketika Tom berdiri untuk pidato, pikirannya ti...</td>\n",
              "      <td>When he got up to make his speech, Tom's mind ...</td>\n",
              "    </tr>\n",
              "    <tr>\n",
              "      <th>13008</th>\n",
              "      <td>Januari, Februari, Maret, April, Mei, Juni, Ju...</td>\n",
              "      <td>January, February, March, April, May, June, Ju...</td>\n",
              "    </tr>\n",
              "    <tr>\n",
              "      <th>13009</th>\n",
              "      <td>Irene Pepperberg, seorang peneliti di Universi...</td>\n",
              "      <td>Irene Pepperberg, a researcher at Northwestern...</td>\n",
              "    </tr>\n",
              "    <tr>\n",
              "      <th>13010</th>\n",
              "      <td>Jika seseorang tidak berkesempatan untuk mengu...</td>\n",
              "      <td>If a person has not had a chance to acquire hi...</td>\n",
              "    </tr>\n",
              "  </tbody>\n",
              "</table>\n",
              "</div>\n",
              "    <div class=\"colab-df-buttons\">\n",
              "\n",
              "  <div class=\"colab-df-container\">\n",
              "    <button class=\"colab-df-convert\" onclick=\"convertToInteractive('df-39b5df48-d3dd-4c57-a473-fd1ec3ec699a')\"\n",
              "            title=\"Convert this dataframe to an interactive table.\"\n",
              "            style=\"display:none;\">\n",
              "\n",
              "  <svg xmlns=\"http://www.w3.org/2000/svg\" height=\"24px\" viewBox=\"0 -960 960 960\">\n",
              "    <path d=\"M120-120v-720h720v720H120Zm60-500h600v-160H180v160Zm220 220h160v-160H400v160Zm0 220h160v-160H400v160ZM180-400h160v-160H180v160Zm440 0h160v-160H620v160ZM180-180h160v-160H180v160Zm440 0h160v-160H620v160Z\"/>\n",
              "  </svg>\n",
              "    </button>\n",
              "\n",
              "  <style>\n",
              "    .colab-df-container {\n",
              "      display:flex;\n",
              "      gap: 12px;\n",
              "    }\n",
              "\n",
              "    .colab-df-convert {\n",
              "      background-color: #E8F0FE;\n",
              "      border: none;\n",
              "      border-radius: 50%;\n",
              "      cursor: pointer;\n",
              "      display: none;\n",
              "      fill: #1967D2;\n",
              "      height: 32px;\n",
              "      padding: 0 0 0 0;\n",
              "      width: 32px;\n",
              "    }\n",
              "\n",
              "    .colab-df-convert:hover {\n",
              "      background-color: #E2EBFA;\n",
              "      box-shadow: 0px 1px 2px rgba(60, 64, 67, 0.3), 0px 1px 3px 1px rgba(60, 64, 67, 0.15);\n",
              "      fill: #174EA6;\n",
              "    }\n",
              "\n",
              "    .colab-df-buttons div {\n",
              "      margin-bottom: 4px;\n",
              "    }\n",
              "\n",
              "    [theme=dark] .colab-df-convert {\n",
              "      background-color: #3B4455;\n",
              "      fill: #D2E3FC;\n",
              "    }\n",
              "\n",
              "    [theme=dark] .colab-df-convert:hover {\n",
              "      background-color: #434B5C;\n",
              "      box-shadow: 0px 1px 3px 1px rgba(0, 0, 0, 0.15);\n",
              "      filter: drop-shadow(0px 1px 2px rgba(0, 0, 0, 0.3));\n",
              "      fill: #FFFFFF;\n",
              "    }\n",
              "  </style>\n",
              "\n",
              "    <script>\n",
              "      const buttonEl =\n",
              "        document.querySelector('#df-39b5df48-d3dd-4c57-a473-fd1ec3ec699a button.colab-df-convert');\n",
              "      buttonEl.style.display =\n",
              "        google.colab.kernel.accessAllowed ? 'block' : 'none';\n",
              "\n",
              "      async function convertToInteractive(key) {\n",
              "        const element = document.querySelector('#df-39b5df48-d3dd-4c57-a473-fd1ec3ec699a');\n",
              "        const dataTable =\n",
              "          await google.colab.kernel.invokeFunction('convertToInteractive',\n",
              "                                                    [key], {});\n",
              "        if (!dataTable) return;\n",
              "\n",
              "        const docLinkHtml = 'Like what you see? Visit the ' +\n",
              "          '<a target=\"_blank\" href=https://colab.research.google.com/notebooks/data_table.ipynb>data table notebook</a>'\n",
              "          + ' to learn more about interactive tables.';\n",
              "        element.innerHTML = '';\n",
              "        dataTable['output_type'] = 'display_data';\n",
              "        await google.colab.output.renderOutput(dataTable, element);\n",
              "        const docLink = document.createElement('div');\n",
              "        docLink.innerHTML = docLinkHtml;\n",
              "        element.appendChild(docLink);\n",
              "      }\n",
              "    </script>\n",
              "  </div>\n",
              "\n",
              "\n",
              "<div id=\"df-30443d86-7123-4969-8455-382869927aa7\">\n",
              "  <button class=\"colab-df-quickchart\" onclick=\"quickchart('df-30443d86-7123-4969-8455-382869927aa7')\"\n",
              "            title=\"Suggest charts\"\n",
              "            style=\"display:none;\">\n",
              "\n",
              "<svg xmlns=\"http://www.w3.org/2000/svg\" height=\"24px\"viewBox=\"0 0 24 24\"\n",
              "     width=\"24px\">\n",
              "    <g>\n",
              "        <path d=\"M19 3H5c-1.1 0-2 .9-2 2v14c0 1.1.9 2 2 2h14c1.1 0 2-.9 2-2V5c0-1.1-.9-2-2-2zM9 17H7v-7h2v7zm4 0h-2V7h2v10zm4 0h-2v-4h2v4z\"/>\n",
              "    </g>\n",
              "</svg>\n",
              "  </button>\n",
              "\n",
              "<style>\n",
              "  .colab-df-quickchart {\n",
              "      --bg-color: #E8F0FE;\n",
              "      --fill-color: #1967D2;\n",
              "      --hover-bg-color: #E2EBFA;\n",
              "      --hover-fill-color: #174EA6;\n",
              "      --disabled-fill-color: #AAA;\n",
              "      --disabled-bg-color: #DDD;\n",
              "  }\n",
              "\n",
              "  [theme=dark] .colab-df-quickchart {\n",
              "      --bg-color: #3B4455;\n",
              "      --fill-color: #D2E3FC;\n",
              "      --hover-bg-color: #434B5C;\n",
              "      --hover-fill-color: #FFFFFF;\n",
              "      --disabled-bg-color: #3B4455;\n",
              "      --disabled-fill-color: #666;\n",
              "  }\n",
              "\n",
              "  .colab-df-quickchart {\n",
              "    background-color: var(--bg-color);\n",
              "    border: none;\n",
              "    border-radius: 50%;\n",
              "    cursor: pointer;\n",
              "    display: none;\n",
              "    fill: var(--fill-color);\n",
              "    height: 32px;\n",
              "    padding: 0;\n",
              "    width: 32px;\n",
              "  }\n",
              "\n",
              "  .colab-df-quickchart:hover {\n",
              "    background-color: var(--hover-bg-color);\n",
              "    box-shadow: 0 1px 2px rgba(60, 64, 67, 0.3), 0 1px 3px 1px rgba(60, 64, 67, 0.15);\n",
              "    fill: var(--button-hover-fill-color);\n",
              "  }\n",
              "\n",
              "  .colab-df-quickchart-complete:disabled,\n",
              "  .colab-df-quickchart-complete:disabled:hover {\n",
              "    background-color: var(--disabled-bg-color);\n",
              "    fill: var(--disabled-fill-color);\n",
              "    box-shadow: none;\n",
              "  }\n",
              "\n",
              "  .colab-df-spinner {\n",
              "    border: 2px solid var(--fill-color);\n",
              "    border-color: transparent;\n",
              "    border-bottom-color: var(--fill-color);\n",
              "    animation:\n",
              "      spin 1s steps(1) infinite;\n",
              "  }\n",
              "\n",
              "  @keyframes spin {\n",
              "    0% {\n",
              "      border-color: transparent;\n",
              "      border-bottom-color: var(--fill-color);\n",
              "      border-left-color: var(--fill-color);\n",
              "    }\n",
              "    20% {\n",
              "      border-color: transparent;\n",
              "      border-left-color: var(--fill-color);\n",
              "      border-top-color: var(--fill-color);\n",
              "    }\n",
              "    30% {\n",
              "      border-color: transparent;\n",
              "      border-left-color: var(--fill-color);\n",
              "      border-top-color: var(--fill-color);\n",
              "      border-right-color: var(--fill-color);\n",
              "    }\n",
              "    40% {\n",
              "      border-color: transparent;\n",
              "      border-right-color: var(--fill-color);\n",
              "      border-top-color: var(--fill-color);\n",
              "    }\n",
              "    60% {\n",
              "      border-color: transparent;\n",
              "      border-right-color: var(--fill-color);\n",
              "    }\n",
              "    80% {\n",
              "      border-color: transparent;\n",
              "      border-right-color: var(--fill-color);\n",
              "      border-bottom-color: var(--fill-color);\n",
              "    }\n",
              "    90% {\n",
              "      border-color: transparent;\n",
              "      border-bottom-color: var(--fill-color);\n",
              "    }\n",
              "  }\n",
              "</style>\n",
              "\n",
              "  <script>\n",
              "    async function quickchart(key) {\n",
              "      const quickchartButtonEl =\n",
              "        document.querySelector('#' + key + ' button');\n",
              "      quickchartButtonEl.disabled = true;  // To prevent multiple clicks.\n",
              "      quickchartButtonEl.classList.add('colab-df-spinner');\n",
              "      try {\n",
              "        const charts = await google.colab.kernel.invokeFunction(\n",
              "            'suggestCharts', [key], {});\n",
              "      } catch (error) {\n",
              "        console.error('Error during call to suggestCharts:', error);\n",
              "      }\n",
              "      quickchartButtonEl.classList.remove('colab-df-spinner');\n",
              "      quickchartButtonEl.classList.add('colab-df-quickchart-complete');\n",
              "    }\n",
              "    (() => {\n",
              "      let quickchartButtonEl =\n",
              "        document.querySelector('#df-30443d86-7123-4969-8455-382869927aa7 button');\n",
              "      quickchartButtonEl.style.display =\n",
              "        google.colab.kernel.accessAllowed ? 'block' : 'none';\n",
              "    })();\n",
              "  </script>\n",
              "</div>\n",
              "    </div>\n",
              "  </div>\n"
            ]
          },
          "metadata": {},
          "execution_count": 2
        }
      ],
      "source": [
        "# Melihat 5 data terakhir\n",
        "df.tail()"
      ]
    },
    {
      "cell_type": "code",
      "execution_count": null,
      "metadata": {
        "colab": {
          "base_uri": "https://localhost:8080/"
        },
        "id": "ijpxTZiFEy_b",
        "outputId": "c91e731c-e485-4b55-937a-c21ecb3e7e84"
      },
      "outputs": [
        {
          "output_type": "execute_result",
          "data": {
            "text/plain": [
              "(13011, 2)"
            ]
          },
          "metadata": {},
          "execution_count": 3
        }
      ],
      "source": [
        "# Jumlah baris dan kolom\n",
        "df.shape"
      ]
    },
    {
      "cell_type": "markdown",
      "source": [
        "# Preprocessing Data"
      ],
      "metadata": {
        "id": "jxt9_D4J4zde"
      }
    },
    {
      "cell_type": "code",
      "source": [
        "# Data yang bernilai null\n",
        "df.isna().sum()"
      ],
      "metadata": {
        "colab": {
          "base_uri": "https://localhost:8080/"
        },
        "id": "Io6BTUOi6ClD",
        "outputId": "8d4a6177-8aa3-47c4-8e28-00c43247e02b"
      },
      "execution_count": null,
      "outputs": [
        {
          "output_type": "execute_result",
          "data": {
            "text/plain": [
              "ind    0\n",
              "eng    0\n",
              "dtype: int64"
            ]
          },
          "metadata": {},
          "execution_count": 4
        }
      ]
    },
    {
      "cell_type": "code",
      "execution_count": null,
      "metadata": {
        "id": "Cs9Glr_BIwEj"
      },
      "outputs": [],
      "source": [
        "# Kita hanya menghapus karakter '!@?.,' dan mengecilkan semua karakter\n",
        "# Jika ingin menambahkan metode cleaning text yang lain tidak apa-apa\n",
        "# Di bawah ini fungsi untuk menghapus punctuation dan mengecilkan huruf\n",
        "def clean(text):\n",
        "  no_punct = text.translate(str.maketrans('','', '!@?.,'))\n",
        "  lower_text = no_punct.lower()\n",
        "  return lower_text"
      ]
    },
    {
      "cell_type": "code",
      "execution_count": null,
      "metadata": {
        "id": "mb32uhQMm577",
        "colab": {
          "base_uri": "https://localhost:8080/",
          "height": 206
        },
        "outputId": "1b061217-02db-4fc1-ea1f-3825449b9dc7"
      },
      "outputs": [
        {
          "output_type": "execute_result",
          "data": {
            "text/plain": [
              "     ind  eng\n",
              "0    hai   hi\n",
              "1   lari  run\n",
              "2   lari  run\n",
              "3  siapa  who\n",
              "4    wow  wow"
            ],
            "text/html": [
              "\n",
              "  <div id=\"df-6f6503d9-fb0e-4313-9e4c-62ccd45661a6\" class=\"colab-df-container\">\n",
              "    <div>\n",
              "<style scoped>\n",
              "    .dataframe tbody tr th:only-of-type {\n",
              "        vertical-align: middle;\n",
              "    }\n",
              "\n",
              "    .dataframe tbody tr th {\n",
              "        vertical-align: top;\n",
              "    }\n",
              "\n",
              "    .dataframe thead th {\n",
              "        text-align: right;\n",
              "    }\n",
              "</style>\n",
              "<table border=\"1\" class=\"dataframe\">\n",
              "  <thead>\n",
              "    <tr style=\"text-align: right;\">\n",
              "      <th></th>\n",
              "      <th>ind</th>\n",
              "      <th>eng</th>\n",
              "    </tr>\n",
              "  </thead>\n",
              "  <tbody>\n",
              "    <tr>\n",
              "      <th>0</th>\n",
              "      <td>hai</td>\n",
              "      <td>hi</td>\n",
              "    </tr>\n",
              "    <tr>\n",
              "      <th>1</th>\n",
              "      <td>lari</td>\n",
              "      <td>run</td>\n",
              "    </tr>\n",
              "    <tr>\n",
              "      <th>2</th>\n",
              "      <td>lari</td>\n",
              "      <td>run</td>\n",
              "    </tr>\n",
              "    <tr>\n",
              "      <th>3</th>\n",
              "      <td>siapa</td>\n",
              "      <td>who</td>\n",
              "    </tr>\n",
              "    <tr>\n",
              "      <th>4</th>\n",
              "      <td>wow</td>\n",
              "      <td>wow</td>\n",
              "    </tr>\n",
              "  </tbody>\n",
              "</table>\n",
              "</div>\n",
              "    <div class=\"colab-df-buttons\">\n",
              "\n",
              "  <div class=\"colab-df-container\">\n",
              "    <button class=\"colab-df-convert\" onclick=\"convertToInteractive('df-6f6503d9-fb0e-4313-9e4c-62ccd45661a6')\"\n",
              "            title=\"Convert this dataframe to an interactive table.\"\n",
              "            style=\"display:none;\">\n",
              "\n",
              "  <svg xmlns=\"http://www.w3.org/2000/svg\" height=\"24px\" viewBox=\"0 -960 960 960\">\n",
              "    <path d=\"M120-120v-720h720v720H120Zm60-500h600v-160H180v160Zm220 220h160v-160H400v160Zm0 220h160v-160H400v160ZM180-400h160v-160H180v160Zm440 0h160v-160H620v160ZM180-180h160v-160H180v160Zm440 0h160v-160H620v160Z\"/>\n",
              "  </svg>\n",
              "    </button>\n",
              "\n",
              "  <style>\n",
              "    .colab-df-container {\n",
              "      display:flex;\n",
              "      gap: 12px;\n",
              "    }\n",
              "\n",
              "    .colab-df-convert {\n",
              "      background-color: #E8F0FE;\n",
              "      border: none;\n",
              "      border-radius: 50%;\n",
              "      cursor: pointer;\n",
              "      display: none;\n",
              "      fill: #1967D2;\n",
              "      height: 32px;\n",
              "      padding: 0 0 0 0;\n",
              "      width: 32px;\n",
              "    }\n",
              "\n",
              "    .colab-df-convert:hover {\n",
              "      background-color: #E2EBFA;\n",
              "      box-shadow: 0px 1px 2px rgba(60, 64, 67, 0.3), 0px 1px 3px 1px rgba(60, 64, 67, 0.15);\n",
              "      fill: #174EA6;\n",
              "    }\n",
              "\n",
              "    .colab-df-buttons div {\n",
              "      margin-bottom: 4px;\n",
              "    }\n",
              "\n",
              "    [theme=dark] .colab-df-convert {\n",
              "      background-color: #3B4455;\n",
              "      fill: #D2E3FC;\n",
              "    }\n",
              "\n",
              "    [theme=dark] .colab-df-convert:hover {\n",
              "      background-color: #434B5C;\n",
              "      box-shadow: 0px 1px 3px 1px rgba(0, 0, 0, 0.15);\n",
              "      filter: drop-shadow(0px 1px 2px rgba(0, 0, 0, 0.3));\n",
              "      fill: #FFFFFF;\n",
              "    }\n",
              "  </style>\n",
              "\n",
              "    <script>\n",
              "      const buttonEl =\n",
              "        document.querySelector('#df-6f6503d9-fb0e-4313-9e4c-62ccd45661a6 button.colab-df-convert');\n",
              "      buttonEl.style.display =\n",
              "        google.colab.kernel.accessAllowed ? 'block' : 'none';\n",
              "\n",
              "      async function convertToInteractive(key) {\n",
              "        const element = document.querySelector('#df-6f6503d9-fb0e-4313-9e4c-62ccd45661a6');\n",
              "        const dataTable =\n",
              "          await google.colab.kernel.invokeFunction('convertToInteractive',\n",
              "                                                    [key], {});\n",
              "        if (!dataTable) return;\n",
              "\n",
              "        const docLinkHtml = 'Like what you see? Visit the ' +\n",
              "          '<a target=\"_blank\" href=https://colab.research.google.com/notebooks/data_table.ipynb>data table notebook</a>'\n",
              "          + ' to learn more about interactive tables.';\n",
              "        element.innerHTML = '';\n",
              "        dataTable['output_type'] = 'display_data';\n",
              "        await google.colab.output.renderOutput(dataTable, element);\n",
              "        const docLink = document.createElement('div');\n",
              "        docLink.innerHTML = docLinkHtml;\n",
              "        element.appendChild(docLink);\n",
              "      }\n",
              "    </script>\n",
              "  </div>\n",
              "\n",
              "\n",
              "<div id=\"df-5263dcf0-455a-443e-bd89-5a509859c437\">\n",
              "  <button class=\"colab-df-quickchart\" onclick=\"quickchart('df-5263dcf0-455a-443e-bd89-5a509859c437')\"\n",
              "            title=\"Suggest charts\"\n",
              "            style=\"display:none;\">\n",
              "\n",
              "<svg xmlns=\"http://www.w3.org/2000/svg\" height=\"24px\"viewBox=\"0 0 24 24\"\n",
              "     width=\"24px\">\n",
              "    <g>\n",
              "        <path d=\"M19 3H5c-1.1 0-2 .9-2 2v14c0 1.1.9 2 2 2h14c1.1 0 2-.9 2-2V5c0-1.1-.9-2-2-2zM9 17H7v-7h2v7zm4 0h-2V7h2v10zm4 0h-2v-4h2v4z\"/>\n",
              "    </g>\n",
              "</svg>\n",
              "  </button>\n",
              "\n",
              "<style>\n",
              "  .colab-df-quickchart {\n",
              "      --bg-color: #E8F0FE;\n",
              "      --fill-color: #1967D2;\n",
              "      --hover-bg-color: #E2EBFA;\n",
              "      --hover-fill-color: #174EA6;\n",
              "      --disabled-fill-color: #AAA;\n",
              "      --disabled-bg-color: #DDD;\n",
              "  }\n",
              "\n",
              "  [theme=dark] .colab-df-quickchart {\n",
              "      --bg-color: #3B4455;\n",
              "      --fill-color: #D2E3FC;\n",
              "      --hover-bg-color: #434B5C;\n",
              "      --hover-fill-color: #FFFFFF;\n",
              "      --disabled-bg-color: #3B4455;\n",
              "      --disabled-fill-color: #666;\n",
              "  }\n",
              "\n",
              "  .colab-df-quickchart {\n",
              "    background-color: var(--bg-color);\n",
              "    border: none;\n",
              "    border-radius: 50%;\n",
              "    cursor: pointer;\n",
              "    display: none;\n",
              "    fill: var(--fill-color);\n",
              "    height: 32px;\n",
              "    padding: 0;\n",
              "    width: 32px;\n",
              "  }\n",
              "\n",
              "  .colab-df-quickchart:hover {\n",
              "    background-color: var(--hover-bg-color);\n",
              "    box-shadow: 0 1px 2px rgba(60, 64, 67, 0.3), 0 1px 3px 1px rgba(60, 64, 67, 0.15);\n",
              "    fill: var(--button-hover-fill-color);\n",
              "  }\n",
              "\n",
              "  .colab-df-quickchart-complete:disabled,\n",
              "  .colab-df-quickchart-complete:disabled:hover {\n",
              "    background-color: var(--disabled-bg-color);\n",
              "    fill: var(--disabled-fill-color);\n",
              "    box-shadow: none;\n",
              "  }\n",
              "\n",
              "  .colab-df-spinner {\n",
              "    border: 2px solid var(--fill-color);\n",
              "    border-color: transparent;\n",
              "    border-bottom-color: var(--fill-color);\n",
              "    animation:\n",
              "      spin 1s steps(1) infinite;\n",
              "  }\n",
              "\n",
              "  @keyframes spin {\n",
              "    0% {\n",
              "      border-color: transparent;\n",
              "      border-bottom-color: var(--fill-color);\n",
              "      border-left-color: var(--fill-color);\n",
              "    }\n",
              "    20% {\n",
              "      border-color: transparent;\n",
              "      border-left-color: var(--fill-color);\n",
              "      border-top-color: var(--fill-color);\n",
              "    }\n",
              "    30% {\n",
              "      border-color: transparent;\n",
              "      border-left-color: var(--fill-color);\n",
              "      border-top-color: var(--fill-color);\n",
              "      border-right-color: var(--fill-color);\n",
              "    }\n",
              "    40% {\n",
              "      border-color: transparent;\n",
              "      border-right-color: var(--fill-color);\n",
              "      border-top-color: var(--fill-color);\n",
              "    }\n",
              "    60% {\n",
              "      border-color: transparent;\n",
              "      border-right-color: var(--fill-color);\n",
              "    }\n",
              "    80% {\n",
              "      border-color: transparent;\n",
              "      border-right-color: var(--fill-color);\n",
              "      border-bottom-color: var(--fill-color);\n",
              "    }\n",
              "    90% {\n",
              "      border-color: transparent;\n",
              "      border-bottom-color: var(--fill-color);\n",
              "    }\n",
              "  }\n",
              "</style>\n",
              "\n",
              "  <script>\n",
              "    async function quickchart(key) {\n",
              "      const quickchartButtonEl =\n",
              "        document.querySelector('#' + key + ' button');\n",
              "      quickchartButtonEl.disabled = true;  // To prevent multiple clicks.\n",
              "      quickchartButtonEl.classList.add('colab-df-spinner');\n",
              "      try {\n",
              "        const charts = await google.colab.kernel.invokeFunction(\n",
              "            'suggestCharts', [key], {});\n",
              "      } catch (error) {\n",
              "        console.error('Error during call to suggestCharts:', error);\n",
              "      }\n",
              "      quickchartButtonEl.classList.remove('colab-df-spinner');\n",
              "      quickchartButtonEl.classList.add('colab-df-quickchart-complete');\n",
              "    }\n",
              "    (() => {\n",
              "      let quickchartButtonEl =\n",
              "        document.querySelector('#df-5263dcf0-455a-443e-bd89-5a509859c437 button');\n",
              "      quickchartButtonEl.style.display =\n",
              "        google.colab.kernel.accessAllowed ? 'block' : 'none';\n",
              "    })();\n",
              "  </script>\n",
              "</div>\n",
              "    </div>\n",
              "  </div>\n"
            ]
          },
          "metadata": {},
          "execution_count": 6
        }
      ],
      "source": [
        "df_clean = df.copy()\n",
        "\n",
        "# Menggunakan fungsi clean pada kolom ind dan eng\n",
        "df_clean.ind = df_clean.ind.apply(clean)\n",
        "df_clean.eng = df_clean.eng.apply(clean)\n",
        "df_clean.head()"
      ]
    },
    {
      "cell_type": "code",
      "source": [
        "# Jumlah kalimat yang duplikat di masing-masing bahasa\n",
        "print('Jumlah kalimat duplikat di ind : ', df_clean.duplicated(subset='ind').sum())\n",
        "print('Jumlah kalimat duplikat di eng : ', df_clean.duplicated(subset='eng').sum())"
      ],
      "metadata": {
        "colab": {
          "base_uri": "https://localhost:8080/"
        },
        "id": "mMm1ZWtnEs0U",
        "outputId": "817f3ab3-95e3-4e5d-8ad1-0ad129848665"
      },
      "execution_count": null,
      "outputs": [
        {
          "output_type": "stream",
          "name": "stdout",
          "text": [
            "Jumlah kalimat duplikat di ind :  1278\n",
            "Jumlah kalimat duplikat di eng :  987\n"
          ]
        }
      ]
    },
    {
      "cell_type": "code",
      "source": [
        "# Untuk tidak menggunakan memori yang terlalu banyak dalam membuat model, kita akan hapus kalimat-kalimat yang duplikat\n",
        "# Tetapi jika tidak dihapus juga tidak apa-apa, karena bisa jadi dalam bahasa indonesia kalimatnya sama tapi dalam bahasa inggris berbeda begitu pun sebaliknya\n",
        "\n",
        "# Menghapus data yang memiliki duplikat pada kolom 'ind' dengan mempertahankan data yang lebih awal\n",
        "df_clean.drop_duplicates(subset='ind', keep='first', inplace=True, ignore_index=True)\n",
        "\n",
        "# Menghapus data yang memiliki duplikat pada kolom 'eng' dengan mempertahankan data yang lebih awal\n",
        "df_clean.drop_duplicates(subset='eng', keep='first', inplace=True, ignore_index=True)\n",
        "\n",
        "print('Jumlah kalimat duplikat di ind : ', df_clean.duplicated(subset='ind').sum())\n",
        "print('Jumlah kalimat duplikat di eng : ', df_clean.duplicated(subset='eng').sum())\n",
        "print('Jumlah data di dataset : ', df_clean.shape[0])"
      ],
      "metadata": {
        "colab": {
          "base_uri": "https://localhost:8080/"
        },
        "id": "ew32LQEKF0N_",
        "outputId": "f89f0668-fb91-41c1-e590-99a7e47ebfa2"
      },
      "execution_count": null,
      "outputs": [
        {
          "output_type": "stream",
          "name": "stdout",
          "text": [
            "Jumlah kalimat duplikat di ind :  0\n",
            "Jumlah kalimat duplikat di eng :  0\n",
            "Jumlah data di dataset :  10964\n"
          ]
        }
      ]
    },
    {
      "cell_type": "code",
      "execution_count": null,
      "metadata": {
        "id": "RNAAH1nfnTLT",
        "colab": {
          "base_uri": "https://localhost:8080/"
        },
        "outputId": "da8420ad-6dcb-4719-a1fc-63dc3847360b"
      },
      "outputs": [
        {
          "output_type": "stream",
          "name": "stdout",
          "text": [
            "Kalimat terpanjang di ind memiliki kata sebanyak :  25\n",
            "Kalimat terpanjang di eng memiliki kata sebanyak :  32\n"
          ]
        }
      ],
      "source": [
        "# Fungsi untuk mencari jumlah kata terbanyak di setiap kalimat\n",
        "def max_lenght_sentences(data):\n",
        "  length = [len(x.split()) for x in data]\n",
        "  return max(length)\n",
        "\n",
        "max_length_ind = max_lenght_sentences(df_clean.ind.values)\n",
        "max_length_eng = max_lenght_sentences(df_clean.eng.values)\n",
        "print('Kalimat terpanjang di ind memiliki kata sebanyak : ', max_length_ind)\n",
        "print('Kalimat terpanjang di eng memiliki kata sebanyak : ', max_length_eng)"
      ]
    },
    {
      "cell_type": "code",
      "source": [
        "# Karena keterbatasan memori yang bisa dipakai, kita hanya akan menggunakan data ind yang memiliki jumlah kata tidak lebih dari 10\n",
        "# fungsi untuk mencari index data yang jumlah katanya tidak lebih dari 10 dan yang terdapat karakter angka\n",
        "def filter_sentence(sentences, threshold):\n",
        "  get_idx = list()\n",
        "  for index, sentence in enumerate(sentences):\n",
        "    if len(sentence.split()) > threshold:\n",
        "      get_idx.append(index)\n",
        "    if any(char.isdigit() for char in sentence) is True and index not in get_idx: # Untuk cek apakah kalimat ada karakter angka\n",
        "      get_idx.append(index)\n",
        "\n",
        "  return get_idx # akan mengembalikan index data yang jumlah katanya lebih dari 10 dan yang memeliki karakter angka\n",
        "\n",
        "# Hapus berdasarkan index yang didapatkan\n",
        "df_clean = df_clean.drop(filter_sentence(df_clean.ind.values, 10), axis=0)\n",
        "\n",
        "max_length_ind = max_lenght_sentences(df_clean.ind.values)\n",
        "max_length_eng = max_lenght_sentences(df_clean.eng.values)\n",
        "print('Kalimat terpanjang di ind memiliki kata sebanyak : ', max_length_ind)\n",
        "print('Kalimat terpanjang di eng memiliki kata sebanyak : ', max_length_eng)\n",
        "print('Jumlah data di dataset : ', df_clean.shape[0])"
      ],
      "metadata": {
        "colab": {
          "base_uri": "https://localhost:8080/"
        },
        "id": "E6D7fpLXXeCR",
        "outputId": "fec2fd72-a4ed-4b8a-d674-6ee30a092ef4"
      },
      "execution_count": null,
      "outputs": [
        {
          "output_type": "stream",
          "name": "stdout",
          "text": [
            "Kalimat terpanjang di ind memiliki kata sebanyak :  10\n",
            "Kalimat terpanjang di eng memiliki kata sebanyak :  17\n",
            "Jumlah data di dataset :  10579\n"
          ]
        }
      ]
    },
    {
      "cell_type": "markdown",
      "source": [
        "# Tokenizer"
      ],
      "metadata": {
        "id": "JV91avr9cSZm"
      }
    },
    {
      "cell_type": "code",
      "source": [
        "from keras.preprocessing.text import Tokenizer\n",
        "\n",
        "# Fungsi untuk melakukan tokenizer\n",
        "def create_tokenizer(data):\n",
        "  tokenizer = Tokenizer()\n",
        "  tokenizer.fit_on_texts(data)\n",
        "  return tokenizer\n",
        "\n",
        "# Acak baris di dataset\n",
        "df_clean = df_clean.sample(frac=1).reset_index(drop=True)\n",
        "\n",
        "# Ubah data ind dan eng menjadi array satu dimensi\n",
        "bhs_ind = df_clean.ind.values\n",
        "bhs_eng = df_clean.eng.values\n",
        "\n",
        "# Melakukan tokenizer\n",
        "token_ind = create_tokenizer(bhs_ind)\n",
        "token_eng = create_tokenizer(bhs_eng)\n",
        "\n",
        "# Jumlah kosakata\n",
        "vocab_ind_size = len(token_ind.word_index)\n",
        "vocab_eng_size = len(token_eng.word_index)\n",
        "\n",
        "print('Dataset ind mempunyai kosakata sebanyak : ', vocab_ind_size)\n",
        "print('Dataset eng mempunyai kosakata sebanyak : ', vocab_eng_size)"
      ],
      "metadata": {
        "colab": {
          "base_uri": "https://localhost:8080/"
        },
        "id": "gb685vCmcZTi",
        "outputId": "e4775cf5-32a7-4c41-bb29-a9ad944440ec"
      },
      "execution_count": null,
      "outputs": [
        {
          "output_type": "stream",
          "name": "stdout",
          "text": [
            "Dataset ind mempunyai kosakata sebanyak :  5396\n",
            "Dataset eng mempunyai kosakata sebanyak :  4630\n"
          ]
        }
      ]
    },
    {
      "cell_type": "markdown",
      "source": [
        "# Vectorizer"
      ],
      "metadata": {
        "id": "YizsyQCNPa69"
      }
    },
    {
      "cell_type": "code",
      "execution_count": null,
      "metadata": {
        "id": "CpfnN-FssLZA",
        "colab": {
          "base_uri": "https://localhost:8080/"
        },
        "outputId": "d290d1f5-c086-43ad-c996-9325e40c5f78"
      },
      "outputs": [
        {
          "output_type": "stream",
          "name": "stdout",
          "text": [
            "Sebelum dilakukan vectorizer :\n",
            "=> aku tahu siapa penggemar rahasiamu\n",
            "Setelah dilakukan vectorizer :\n",
            "=> [   2   26   62 1646 3007    0    0    0    0    0]\n"
          ]
        }
      ],
      "source": [
        "from keras.preprocessing.sequence import pad_sequences\n",
        "\n",
        "# Fungsi untuk mengubah data menjadi vektor\n",
        "def encode_sequences(tokenizer, data, max_lenght_sentences):\n",
        "  vector_bhs = tokenizer.texts_to_sequences(data)\n",
        "  vector_bhs = pad_sequences(vector_bhs, maxlen=max_lenght_sentences, padding='post')\n",
        "  return vector_bhs\n",
        "\n",
        "# Melakukan vectorizer\n",
        "# parameter max_lenght kita gunakan yang paling besar yaitu 17 miliki eng\n",
        "vector_ind = encode_sequences(token_ind, bhs_ind, max_length_ind)\n",
        "vector_eng = encode_sequences(token_eng, bhs_eng, max_length_eng)\n",
        "\n",
        "print(\"Sebelum dilakukan vectorizer :\\n=>\",bhs_ind[900])\n",
        "print(\"Setelah dilakukan vectorizer :\\n=>\",vector_ind[900])"
      ]
    },
    {
      "cell_type": "markdown",
      "source": [
        "# Model"
      ],
      "metadata": {
        "id": "fgrvvFC21K_t"
      }
    },
    {
      "cell_type": "code",
      "execution_count": null,
      "metadata": {
        "id": "e2eloZ1ED5dZ"
      },
      "outputs": [],
      "source": [
        "from keras.models import Sequential\n",
        "from keras.layers import Dense, LSTM, TimeDistributed, Embedding, RepeatVector, Bidirectional, Dropout, GRU\n",
        "\n",
        "model = Sequential()\n",
        "model.add(Embedding(vocab_ind_size+1, 256, input_length = vector_ind.shape[1], input_shape=vector_ind.shape[1:]))\n",
        "model.add(Bidirectional(GRU(256)))\n",
        "model.add(RepeatVector(max_length_eng))\n",
        "model.add(Bidirectional(GRU(256, return_sequences=True)))\n",
        "model.add(TimeDistributed(Dense(1024,activation='linear')))\n",
        "model.add(Dropout(0.5))\n",
        "model.add(TimeDistributed(Dense(vocab_eng_size+1,activation='softmax')))"
      ]
    },
    {
      "cell_type": "code",
      "execution_count": null,
      "metadata": {
        "colab": {
          "base_uri": "https://localhost:8080/"
        },
        "id": "3rDn8OJ6WQtY",
        "outputId": "129cf31f-c502-4cb8-b10d-18d05e033425"
      },
      "outputs": [
        {
          "output_type": "stream",
          "name": "stdout",
          "text": [
            "Model: \"sequential\"\n",
            "_________________________________________________________________\n",
            " Layer (type)                Output Shape              Param #   \n",
            "=================================================================\n",
            " embedding (Embedding)       (None, 10, 256)           1381632   \n",
            "                                                                 \n",
            " bidirectional (Bidirection  (None, 512)               789504    \n",
            " al)                                                             \n",
            "                                                                 \n",
            " repeat_vector (RepeatVecto  (None, 17, 512)           0         \n",
            " r)                                                              \n",
            "                                                                 \n",
            " bidirectional_1 (Bidirecti  (None, 17, 512)           1182720   \n",
            " onal)                                                           \n",
            "                                                                 \n",
            " time_distributed (TimeDist  (None, 17, 1024)          525312    \n",
            " ributed)                                                        \n",
            "                                                                 \n",
            " dropout (Dropout)           (None, 17, 1024)          0         \n",
            "                                                                 \n",
            " time_distributed_1 (TimeDi  (None, 17, 4631)          4746775   \n",
            " stributed)                                                      \n",
            "                                                                 \n",
            "=================================================================\n",
            "Total params: 8625943 (32.91 MB)\n",
            "Trainable params: 8625943 (32.91 MB)\n",
            "Non-trainable params: 0 (0.00 Byte)\n",
            "_________________________________________________________________\n"
          ]
        }
      ],
      "source": [
        "from keras.optimizers import Adam\n",
        "from keras.losses import sparse_categorical_crossentropy\n",
        "\n",
        "model.compile(loss= sparse_categorical_crossentropy, optimizer=Adam(learning_rate=0.001), metrics= ['accuracy'])\n",
        "model.summary()"
      ]
    },
    {
      "cell_type": "code",
      "execution_count": null,
      "metadata": {
        "colab": {
          "base_uri": "https://localhost:8080/"
        },
        "id": "qFwY8ABLYZK7",
        "outputId": "3a9fd8b1-4288-4c87-8940-dae0d49b07bd"
      },
      "outputs": [
        {
          "output_type": "stream",
          "name": "stdout",
          "text": [
            "Epoch 1/30\n",
            "1693/1693 [==============================] - 37s 15ms/step - loss: 2.1736 - accuracy: 0.7011 - val_loss: 1.9690 - val_accuracy: 0.7178\n",
            "Epoch 2/30\n",
            "1693/1693 [==============================] - 23s 13ms/step - loss: 1.8295 - accuracy: 0.7252 - val_loss: 1.7380 - val_accuracy: 0.7349\n",
            "Epoch 3/30\n",
            "1693/1693 [==============================] - 22s 13ms/step - loss: 1.5730 - accuracy: 0.7420 - val_loss: 1.5936 - val_accuracy: 0.7439\n",
            "Epoch 4/30\n",
            "1693/1693 [==============================] - 22s 13ms/step - loss: 1.3569 - accuracy: 0.7575 - val_loss: 1.5536 - val_accuracy: 0.7514\n",
            "Epoch 5/30\n",
            "1693/1693 [==============================] - 22s 13ms/step - loss: 1.1847 - accuracy: 0.7730 - val_loss: 1.4965 - val_accuracy: 0.7562\n",
            "Epoch 6/30\n",
            "1693/1693 [==============================] - 22s 13ms/step - loss: 1.0431 - accuracy: 0.7856 - val_loss: 1.5344 - val_accuracy: 0.7571\n",
            "Epoch 7/30\n",
            "1693/1693 [==============================] - 21s 13ms/step - loss: 0.9297 - accuracy: 0.7984 - val_loss: 1.5289 - val_accuracy: 0.7623\n",
            "Epoch 8/30\n",
            "1693/1693 [==============================] - 22s 13ms/step - loss: 0.8295 - accuracy: 0.8119 - val_loss: 1.5674 - val_accuracy: 0.7608\n",
            "Epoch 9/30\n",
            "1693/1693 [==============================] - 22s 13ms/step - loss: 0.7446 - accuracy: 0.8237 - val_loss: 1.5921 - val_accuracy: 0.7618\n",
            "Epoch 10/30\n",
            "1693/1693 [==============================] - 21s 13ms/step - loss: 0.6727 - accuracy: 0.8358 - val_loss: 1.6091 - val_accuracy: 0.7595\n",
            "Epoch 11/30\n",
            "1693/1693 [==============================] - 23s 13ms/step - loss: 0.6131 - accuracy: 0.8466 - val_loss: 1.6793 - val_accuracy: 0.7626\n",
            "Epoch 12/30\n",
            "1693/1693 [==============================] - 22s 13ms/step - loss: 0.5665 - accuracy: 0.8563 - val_loss: 1.7061 - val_accuracy: 0.7626\n",
            "Epoch 13/30\n",
            "1693/1693 [==============================] - 22s 13ms/step - loss: 0.5229 - accuracy: 0.8652 - val_loss: 1.6992 - val_accuracy: 0.7616\n",
            "Epoch 14/30\n",
            "1693/1693 [==============================] - 22s 13ms/step - loss: 0.4834 - accuracy: 0.8738 - val_loss: 1.7623 - val_accuracy: 0.7567\n",
            "Epoch 15/30\n",
            "1693/1693 [==============================] - 22s 13ms/step - loss: 0.4583 - accuracy: 0.8796 - val_loss: 1.8324 - val_accuracy: 0.7653\n",
            "Epoch 16/30\n",
            "1693/1693 [==============================] - 21s 13ms/step - loss: 0.4237 - accuracy: 0.8883 - val_loss: 1.8536 - val_accuracy: 0.7620\n",
            "Epoch 17/30\n",
            "1693/1693 [==============================] - 22s 13ms/step - loss: 0.3985 - accuracy: 0.8951 - val_loss: 1.8410 - val_accuracy: 0.7643\n",
            "Epoch 18/30\n",
            "1693/1693 [==============================] - 23s 13ms/step - loss: 0.3816 - accuracy: 0.8985 - val_loss: 1.8397 - val_accuracy: 0.7620\n",
            "Epoch 19/30\n",
            "1693/1693 [==============================] - 21s 13ms/step - loss: 0.3608 - accuracy: 0.9043 - val_loss: 1.9375 - val_accuracy: 0.7643\n",
            "Epoch 20/30\n",
            "1693/1693 [==============================] - 22s 13ms/step - loss: 0.3469 - accuracy: 0.9074 - val_loss: 1.9762 - val_accuracy: 0.7621\n",
            "Epoch 21/30\n",
            "1693/1693 [==============================] - 23s 13ms/step - loss: 0.3248 - accuracy: 0.9136 - val_loss: 1.9878 - val_accuracy: 0.7629\n",
            "Epoch 22/30\n",
            "1693/1693 [==============================] - 22s 13ms/step - loss: 0.3166 - accuracy: 0.9161 - val_loss: 2.0601 - val_accuracy: 0.7633\n",
            "Epoch 23/30\n",
            "1693/1693 [==============================] - 22s 13ms/step - loss: 0.2998 - accuracy: 0.9196 - val_loss: 2.0375 - val_accuracy: 0.7651\n",
            "Epoch 24/30\n",
            "1693/1693 [==============================] - 22s 13ms/step - loss: 0.2939 - accuracy: 0.9224 - val_loss: 2.0783 - val_accuracy: 0.7635\n",
            "Epoch 25/30\n",
            "1693/1693 [==============================] - 22s 13ms/step - loss: 0.2871 - accuracy: 0.9250 - val_loss: 2.1228 - val_accuracy: 0.7643\n",
            "Epoch 26/30\n",
            "1693/1693 [==============================] - 22s 13ms/step - loss: 0.2729 - accuracy: 0.9281 - val_loss: 2.0842 - val_accuracy: 0.7663\n",
            "Epoch 27/30\n",
            "1693/1693 [==============================] - 23s 13ms/step - loss: 0.2611 - accuracy: 0.9311 - val_loss: 2.1208 - val_accuracy: 0.7633\n",
            "Epoch 28/30\n",
            "1693/1693 [==============================] - 22s 13ms/step - loss: 0.2540 - accuracy: 0.9334 - val_loss: 2.1446 - val_accuracy: 0.7603\n",
            "Epoch 29/30\n",
            "1693/1693 [==============================] - 22s 13ms/step - loss: 0.2451 - accuracy: 0.9355 - val_loss: 2.1558 - val_accuracy: 0.7627\n",
            "Epoch 30/30\n",
            "1693/1693 [==============================] - 22s 13ms/step - loss: 0.2357 - accuracy: 0.9382 - val_loss: 2.1507 - val_accuracy: 0.7647\n"
          ]
        }
      ],
      "source": [
        "history = model.fit(vector_ind, vector_eng, batch_size=5, epochs=30, validation_split=0.2)"
      ]
    },
    {
      "cell_type": "markdown",
      "source": [
        "# Prediksi"
      ],
      "metadata": {
        "id": "prAbpCR0F43b"
      }
    },
    {
      "cell_type": "code",
      "execution_count": null,
      "metadata": {
        "id": "PVl3QKJrYt-H"
      },
      "outputs": [],
      "source": [
        "def logits_to_text(logits, tokenizer):\n",
        "  index_to_words = {id: word for word, id in tokenizer.word_index.items()}\n",
        "  index_to_words[0] = ''\n",
        "  return ' '.join([index_to_words[prediction] for prediction in np.argmax(logits, 1)])"
      ]
    },
    {
      "cell_type": "code",
      "execution_count": null,
      "metadata": {
        "colab": {
          "base_uri": "https://localhost:8080/"
        },
        "id": "nYS7Xq0aeXnc",
        "outputId": "2d466c7c-0b09-4a41-e75b-85e3efc66ea0"
      },
      "outputs": [
        {
          "output_type": "stream",
          "name": "stdout",
          "text": [
            "1/1 [==============================] - 1s 1s/step\n",
            "tom left to meet you hours hours ago         \n"
          ]
        }
      ],
      "source": [
        "kalimat_test = ['tom pergi untuk menemuimu tiga jam yang lalu']\n",
        "vector_test = encode_sequences(token_ind, kalimat_test, max_length_ind)\n",
        "y_pred = model.predict(vector_test)\n",
        "print(logits_to_text(y_pred[0], token_eng))"
      ]
    },
    {
      "cell_type": "code",
      "source": [
        "df_clean.iloc[8000,1]"
      ],
      "metadata": {
        "id": "ilaz3K29rXtV",
        "colab": {
          "base_uri": "https://localhost:8080/",
          "height": 35
        },
        "outputId": "c500ba50-5be4-491e-9022-32017921a521"
      },
      "execution_count": null,
      "outputs": [
        {
          "output_type": "execute_result",
          "data": {
            "text/plain": [
              "'sushi is a japanese food'"
            ],
            "application/vnd.google.colaboratory.intrinsic+json": {
              "type": "string"
            }
          },
          "metadata": {},
          "execution_count": 18
        }
      ]
    },
    {
      "cell_type": "markdown",
      "source": [
        "# Evaluasi"
      ],
      "metadata": {
        "id": "vea-I2yVAG7S"
      }
    },
    {
      "cell_type": "markdown",
      "source": [
        "Untuk melakukan evaluasi dalam contoh kasus translasi text ini bisa menggunakan BLUE score. Teman-teman bisa mempelajarinya di refrensi link ini https://machinelearningmastery.com/calculate-bleu-score-for-text-python/"
      ],
      "metadata": {
        "id": "i8RuCD2XEwvS"
      }
    }
  ],
  "metadata": {
    "accelerator": "GPU",
    "colab": {
      "provenance": [],
      "gpuType": "T4"
    },
    "kernelspec": {
      "display_name": "Python 3",
      "name": "python3"
    },
    "language_info": {
      "name": "python"
    }
  },
  "nbformat": 4,
  "nbformat_minor": 0
}