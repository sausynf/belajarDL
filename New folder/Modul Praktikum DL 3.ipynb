{
 "cells": [
  {
   "cell_type": "markdown",
   "id": "4b0e7f18",
   "metadata": {},
   "source": [
    "<h1 style=\"text-align:center\">KLASIFIKASI MULTI KELAS</h1> "
   ]
  },
  {
   "cell_type": "markdown",
   "id": "4735793a",
   "metadata": {},
   "source": [
    "# Softmax\n",
    "\n",
    "`softmax` kita pergunakan jika kelas yang kita klasifikasikan/kategorikan berjumlah di atas sama dengan 2 kelas. Berarti untuk klasifikasi dengan kelas berjumlah 3, 4, 5, dan seterusnya, kita wajib menggunakan `softmax`.\n",
    "\n",
    "Apakah 2 kelas bisa juga kita pergunakanan `softmax` untuk activation-nya? Bisa. Selain menggunakan `sigmoid`, kita bisa menggunakan `softmax` juga untuk kasus-kasus klasifikasi biner/binary."
   ]
  },
  {
   "cell_type": "markdown",
   "id": "e0359c17",
   "metadata": {},
   "source": [
    "# Persiapan Data"
   ]
  },
  {
   "cell_type": "code",
   "execution_count": 2,
   "id": "89ea1524",
   "metadata": {},
   "outputs": [
    {
     "data": {
      "text/html": [
       "<div>\n",
       "<style scoped>\n",
       "    .dataframe tbody tr th:only-of-type {\n",
       "        vertical-align: middle;\n",
       "    }\n",
       "\n",
       "    .dataframe tbody tr th {\n",
       "        vertical-align: top;\n",
       "    }\n",
       "\n",
       "    .dataframe thead th {\n",
       "        text-align: right;\n",
       "    }\n",
       "</style>\n",
       "<table border=\"1\" class=\"dataframe\">\n",
       "  <thead>\n",
       "    <tr style=\"text-align: right;\">\n",
       "      <th></th>\n",
       "      <th>x1</th>\n",
       "      <th>x2</th>\n",
       "      <th>x3</th>\n",
       "      <th>x4</th>\n",
       "      <th>x5</th>\n",
       "      <th>x6</th>\n",
       "      <th>x7</th>\n",
       "      <th>x8</th>\n",
       "      <th>x9</th>\n",
       "      <th>x10</th>\n",
       "      <th>y</th>\n",
       "    </tr>\n",
       "  </thead>\n",
       "  <tbody>\n",
       "    <tr>\n",
       "      <th>0</th>\n",
       "      <td>1.518347</td>\n",
       "      <td>0.169320</td>\n",
       "      <td>-0.563664</td>\n",
       "      <td>2.950641</td>\n",
       "      <td>-1.132146</td>\n",
       "      <td>1.505471</td>\n",
       "      <td>-0.284394</td>\n",
       "      <td>0.023092</td>\n",
       "      <td>0.007470</td>\n",
       "      <td>-1.650441</td>\n",
       "      <td>1</td>\n",
       "    </tr>\n",
       "    <tr>\n",
       "      <th>1</th>\n",
       "      <td>2.098640</td>\n",
       "      <td>2.220619</td>\n",
       "      <td>-0.125866</td>\n",
       "      <td>-1.202919</td>\n",
       "      <td>-1.711568</td>\n",
       "      <td>-0.426238</td>\n",
       "      <td>-0.890906</td>\n",
       "      <td>0.522722</td>\n",
       "      <td>-0.963621</td>\n",
       "      <td>1.113457</td>\n",
       "      <td>1</td>\n",
       "    </tr>\n",
       "    <tr>\n",
       "      <th>2</th>\n",
       "      <td>-1.995845</td>\n",
       "      <td>-1.483104</td>\n",
       "      <td>0.184418</td>\n",
       "      <td>-0.663577</td>\n",
       "      <td>0.833680</td>\n",
       "      <td>-0.825841</td>\n",
       "      <td>0.292764</td>\n",
       "      <td>-0.354294</td>\n",
       "      <td>0.668589</td>\n",
       "      <td>0.474721</td>\n",
       "      <td>2</td>\n",
       "    </tr>\n",
       "    <tr>\n",
       "      <th>3</th>\n",
       "      <td>0.902420</td>\n",
       "      <td>-1.210013</td>\n",
       "      <td>0.938864</td>\n",
       "      <td>0.901350</td>\n",
       "      <td>-1.298249</td>\n",
       "      <td>0.408745</td>\n",
       "      <td>0.344624</td>\n",
       "      <td>-0.322170</td>\n",
       "      <td>0.705360</td>\n",
       "      <td>2.597745</td>\n",
       "      <td>1</td>\n",
       "    </tr>\n",
       "    <tr>\n",
       "      <th>4</th>\n",
       "      <td>1.233222</td>\n",
       "      <td>0.890784</td>\n",
       "      <td>-0.642521</td>\n",
       "      <td>-1.183033</td>\n",
       "      <td>0.760037</td>\n",
       "      <td>-0.554282</td>\n",
       "      <td>-1.136154</td>\n",
       "      <td>0.233899</td>\n",
       "      <td>-0.503455</td>\n",
       "      <td>0.123104</td>\n",
       "      <td>3</td>\n",
       "    </tr>\n",
       "    <tr>\n",
       "      <th>...</th>\n",
       "      <td>...</td>\n",
       "      <td>...</td>\n",
       "      <td>...</td>\n",
       "      <td>...</td>\n",
       "      <td>...</td>\n",
       "      <td>...</td>\n",
       "      <td>...</td>\n",
       "      <td>...</td>\n",
       "      <td>...</td>\n",
       "      <td>...</td>\n",
       "      <td>...</td>\n",
       "    </tr>\n",
       "    <tr>\n",
       "      <th>14995</th>\n",
       "      <td>-0.585161</td>\n",
       "      <td>-0.012898</td>\n",
       "      <td>0.841239</td>\n",
       "      <td>-0.050058</td>\n",
       "      <td>1.791464</td>\n",
       "      <td>-0.122988</td>\n",
       "      <td>-0.224938</td>\n",
       "      <td>0.026782</td>\n",
       "      <td>-0.138373</td>\n",
       "      <td>-2.426532</td>\n",
       "      <td>2</td>\n",
       "    </tr>\n",
       "    <tr>\n",
       "      <th>14996</th>\n",
       "      <td>1.755174</td>\n",
       "      <td>0.712462</td>\n",
       "      <td>0.583603</td>\n",
       "      <td>-0.477384</td>\n",
       "      <td>-1.014532</td>\n",
       "      <td>-0.424457</td>\n",
       "      <td>0.618902</td>\n",
       "      <td>0.159920</td>\n",
       "      <td>-0.271558</td>\n",
       "      <td>0.741435</td>\n",
       "      <td>1</td>\n",
       "    </tr>\n",
       "    <tr>\n",
       "      <th>14997</th>\n",
       "      <td>-0.111263</td>\n",
       "      <td>-2.167265</td>\n",
       "      <td>-0.814331</td>\n",
       "      <td>1.521100</td>\n",
       "      <td>1.871699</td>\n",
       "      <td>-0.034947</td>\n",
       "      <td>0.260475</td>\n",
       "      <td>-0.506794</td>\n",
       "      <td>0.924204</td>\n",
       "      <td>-1.455204</td>\n",
       "      <td>2</td>\n",
       "    </tr>\n",
       "    <tr>\n",
       "      <th>14998</th>\n",
       "      <td>-1.547969</td>\n",
       "      <td>-0.364428</td>\n",
       "      <td>-0.663746</td>\n",
       "      <td>-0.452525</td>\n",
       "      <td>0.467082</td>\n",
       "      <td>1.012672</td>\n",
       "      <td>0.254040</td>\n",
       "      <td>-0.082668</td>\n",
       "      <td>0.143094</td>\n",
       "      <td>-1.506516</td>\n",
       "      <td>2</td>\n",
       "    </tr>\n",
       "    <tr>\n",
       "      <th>14999</th>\n",
       "      <td>0.912559</td>\n",
       "      <td>0.105790</td>\n",
       "      <td>-1.037117</td>\n",
       "      <td>-0.350758</td>\n",
       "      <td>0.014182</td>\n",
       "      <td>-0.064538</td>\n",
       "      <td>0.202061</td>\n",
       "      <td>0.026505</td>\n",
       "      <td>-0.053642</td>\n",
       "      <td>-1.327969</td>\n",
       "      <td>0</td>\n",
       "    </tr>\n",
       "  </tbody>\n",
       "</table>\n",
       "<p>15000 rows × 11 columns</p>\n",
       "</div>"
      ],
      "text/plain": [
       "             x1        x2        x3        x4        x5        x6        x7  \\\n",
       "0      1.518347  0.169320 -0.563664  2.950641 -1.132146  1.505471 -0.284394   \n",
       "1      2.098640  2.220619 -0.125866 -1.202919 -1.711568 -0.426238 -0.890906   \n",
       "2     -1.995845 -1.483104  0.184418 -0.663577  0.833680 -0.825841  0.292764   \n",
       "3      0.902420 -1.210013  0.938864  0.901350 -1.298249  0.408745  0.344624   \n",
       "4      1.233222  0.890784 -0.642521 -1.183033  0.760037 -0.554282 -1.136154   \n",
       "...         ...       ...       ...       ...       ...       ...       ...   \n",
       "14995 -0.585161 -0.012898  0.841239 -0.050058  1.791464 -0.122988 -0.224938   \n",
       "14996  1.755174  0.712462  0.583603 -0.477384 -1.014532 -0.424457  0.618902   \n",
       "14997 -0.111263 -2.167265 -0.814331  1.521100  1.871699 -0.034947  0.260475   \n",
       "14998 -1.547969 -0.364428 -0.663746 -0.452525  0.467082  1.012672  0.254040   \n",
       "14999  0.912559  0.105790 -1.037117 -0.350758  0.014182 -0.064538  0.202061   \n",
       "\n",
       "             x8        x9       x10  y  \n",
       "0      0.023092  0.007470 -1.650441  1  \n",
       "1      0.522722 -0.963621  1.113457  1  \n",
       "2     -0.354294  0.668589  0.474721  2  \n",
       "3     -0.322170  0.705360  2.597745  1  \n",
       "4      0.233899 -0.503455  0.123104  3  \n",
       "...         ...       ...       ... ..  \n",
       "14995  0.026782 -0.138373 -2.426532  2  \n",
       "14996  0.159920 -0.271558  0.741435  1  \n",
       "14997 -0.506794  0.924204 -1.455204  2  \n",
       "14998 -0.082668  0.143094 -1.506516  2  \n",
       "14999  0.026505 -0.053642 -1.327969  0  \n",
       "\n",
       "[15000 rows x 11 columns]"
      ]
     },
     "execution_count": 2,
     "metadata": {},
     "output_type": "execute_result"
    }
   ],
   "source": [
    "import pandas as pd\n",
    "\n",
    "df = pd.read_csv(\"C:/Users/sausa/Praktikum DL/Praktikum_DL/Pertemuan 3/Dataset/dataset_klasifikasi_multiclass.csv\")\n",
    "df"
   ]
  },
  {
   "cell_type": "markdown",
   "id": "99e25d13",
   "metadata": {},
   "source": [
    "# Membagi Dataset"
   ]
  },
  {
   "cell_type": "code",
   "execution_count": 3,
   "id": "b31746aa",
   "metadata": {},
   "outputs": [
    {
     "data": {
      "text/plain": [
       "((12000, 10), (3000, 10), (12000,), (3000,))"
      ]
     },
     "execution_count": 3,
     "metadata": {},
     "output_type": "execute_result"
    }
   ],
   "source": [
    "from sklearn.model_selection import train_test_split\n",
    "\n",
    "X = df.drop('y', axis=1).values\n",
    "Y = df['y'].values\n",
    "\n",
    "x_train, x_test, y_train, y_test = train_test_split(X, Y, test_size=0.2, random_state=42, stratify=Y)\n",
    "x_train.shape, x_test.shape, y_train.shape, y_test.shape"
   ]
  },
  {
   "cell_type": "code",
   "execution_count": 4,
   "id": "d9537088",
   "metadata": {},
   "outputs": [
    {
     "data": {
      "text/plain": [
       "y\n",
       "3    3759\n",
       "2    3750\n",
       "0    3746\n",
       "1    3745\n",
       "Name: count, dtype: int64"
      ]
     },
     "execution_count": 4,
     "metadata": {},
     "output_type": "execute_result"
    }
   ],
   "source": [
    "df['y'].value_counts()"
   ]
  },
  {
   "cell_type": "markdown",
   "id": "b8334db4",
   "metadata": {},
   "source": [
    "# Membuat Arsitektur Model"
   ]
  },
  {
   "cell_type": "code",
   "execution_count": 5,
   "id": "fbecb201",
   "metadata": {},
   "outputs": [],
   "source": [
    "from keras.models import Sequential\n",
    "from keras.layers import Dense\n",
    "\n",
    "model = Sequential()\n",
    "model.add(Dense(8, input_dim=10, activation='relu'))\n",
    "model.add(Dense(16, activation='relu'))\n",
    "model.add(Dense(32, activation='relu'))\n",
    "model.add(Dense(16, activation='relu'))\n",
    "model.add(Dense(8, activation='relu'))\n",
    "model.add(Dense(4, activation='softmax'))"
   ]
  },
  {
   "cell_type": "markdown",
   "id": "73658eb1",
   "metadata": {},
   "source": [
    "# Compile Model"
   ]
  },
  {
   "cell_type": "code",
   "execution_count": 6,
   "id": "29972405",
   "metadata": {},
   "outputs": [],
   "source": [
    "model.compile(loss='sparse_categorical_crossentropy', optimizer='adam', metrics=['accuracy'])"
   ]
  },
  {
   "cell_type": "markdown",
   "id": "b22f18f3",
   "metadata": {},
   "source": [
    "# Training Model"
   ]
  },
  {
   "cell_type": "code",
   "execution_count": 7,
   "id": "f4aafb24",
   "metadata": {},
   "outputs": [
    {
     "name": "stdout",
     "output_type": "stream",
     "text": [
      "Epoch 1/100\n",
      "43/43 [==============================] - 3s 18ms/step - loss: 1.3276 - accuracy: 0.3505 - val_loss: 1.2548 - val_accuracy: 0.3658\n",
      "Epoch 2/100\n",
      "43/43 [==============================] - 0s 6ms/step - loss: 1.1591 - accuracy: 0.3971 - val_loss: 1.0573 - val_accuracy: 0.4967\n",
      "Epoch 3/100\n",
      "43/43 [==============================] - 0s 6ms/step - loss: 0.8919 - accuracy: 0.6692 - val_loss: 0.7517 - val_accuracy: 0.7200\n",
      "Epoch 4/100\n",
      "43/43 [==============================] - 0s 7ms/step - loss: 0.6489 - accuracy: 0.7856 - val_loss: 0.5641 - val_accuracy: 0.8067\n",
      "Epoch 5/100\n",
      "43/43 [==============================] - 0s 7ms/step - loss: 0.4793 - accuracy: 0.8430 - val_loss: 0.4198 - val_accuracy: 0.8617\n",
      "Epoch 6/100\n",
      "43/43 [==============================] - 0s 7ms/step - loss: 0.3928 - accuracy: 0.8763 - val_loss: 0.3780 - val_accuracy: 0.8742\n",
      "Epoch 7/100\n",
      "43/43 [==============================] - 0s 6ms/step - loss: 0.3625 - accuracy: 0.8900 - val_loss: 0.3631 - val_accuracy: 0.8842\n",
      "Epoch 8/100\n",
      "43/43 [==============================] - 0s 6ms/step - loss: 0.3474 - accuracy: 0.8942 - val_loss: 0.3524 - val_accuracy: 0.8892\n",
      "Epoch 9/100\n",
      "43/43 [==============================] - 0s 6ms/step - loss: 0.3380 - accuracy: 0.8970 - val_loss: 0.3453 - val_accuracy: 0.8917\n",
      "Epoch 10/100\n",
      "43/43 [==============================] - 0s 7ms/step - loss: 0.3308 - accuracy: 0.8991 - val_loss: 0.3374 - val_accuracy: 0.8933\n",
      "Epoch 11/100\n",
      "43/43 [==============================] - 0s 7ms/step - loss: 0.3240 - accuracy: 0.9021 - val_loss: 0.3328 - val_accuracy: 0.8950\n",
      "Epoch 12/100\n",
      "43/43 [==============================] - 0s 7ms/step - loss: 0.3175 - accuracy: 0.9059 - val_loss: 0.3291 - val_accuracy: 0.8925\n",
      "Epoch 13/100\n",
      "43/43 [==============================] - 0s 7ms/step - loss: 0.3139 - accuracy: 0.9063 - val_loss: 0.3211 - val_accuracy: 0.9008\n",
      "Epoch 14/100\n",
      "43/43 [==============================] - 0s 6ms/step - loss: 0.3088 - accuracy: 0.9074 - val_loss: 0.3212 - val_accuracy: 0.8992\n",
      "Epoch 15/100\n",
      "43/43 [==============================] - 0s 7ms/step - loss: 0.3064 - accuracy: 0.9085 - val_loss: 0.3163 - val_accuracy: 0.9033\n",
      "Epoch 16/100\n",
      "43/43 [==============================] - 0s 7ms/step - loss: 0.3035 - accuracy: 0.9081 - val_loss: 0.3146 - val_accuracy: 0.8992\n",
      "Epoch 17/100\n",
      "43/43 [==============================] - 0s 7ms/step - loss: 0.3009 - accuracy: 0.9084 - val_loss: 0.3102 - val_accuracy: 0.9050\n",
      "Epoch 18/100\n",
      "43/43 [==============================] - 0s 7ms/step - loss: 0.2984 - accuracy: 0.9106 - val_loss: 0.3145 - val_accuracy: 0.9017\n",
      "Epoch 19/100\n",
      "43/43 [==============================] - 0s 8ms/step - loss: 0.2989 - accuracy: 0.9104 - val_loss: 0.3075 - val_accuracy: 0.9025\n",
      "Epoch 20/100\n",
      "43/43 [==============================] - 0s 7ms/step - loss: 0.2978 - accuracy: 0.9105 - val_loss: 0.3082 - val_accuracy: 0.9033\n",
      "Epoch 21/100\n",
      "43/43 [==============================] - 0s 7ms/step - loss: 0.2948 - accuracy: 0.9106 - val_loss: 0.3044 - val_accuracy: 0.9050\n",
      "Epoch 22/100\n",
      "43/43 [==============================] - 0s 8ms/step - loss: 0.2937 - accuracy: 0.9118 - val_loss: 0.3076 - val_accuracy: 0.8983\n",
      "Epoch 23/100\n",
      "43/43 [==============================] - 0s 8ms/step - loss: 0.2936 - accuracy: 0.9123 - val_loss: 0.3071 - val_accuracy: 0.8992\n",
      "Epoch 24/100\n",
      "43/43 [==============================] - 0s 7ms/step - loss: 0.2913 - accuracy: 0.9132 - val_loss: 0.3022 - val_accuracy: 0.9025\n",
      "Epoch 25/100\n",
      "43/43 [==============================] - 0s 8ms/step - loss: 0.2902 - accuracy: 0.9127 - val_loss: 0.3009 - val_accuracy: 0.9042\n",
      "Epoch 26/100\n",
      "43/43 [==============================] - 0s 8ms/step - loss: 0.2910 - accuracy: 0.9135 - val_loss: 0.3047 - val_accuracy: 0.9025\n",
      "Epoch 27/100\n",
      "43/43 [==============================] - 0s 7ms/step - loss: 0.2894 - accuracy: 0.9128 - val_loss: 0.3001 - val_accuracy: 0.9058\n",
      "Epoch 28/100\n",
      "43/43 [==============================] - 0s 9ms/step - loss: 0.2875 - accuracy: 0.9142 - val_loss: 0.2991 - val_accuracy: 0.9042\n",
      "Epoch 29/100\n",
      "43/43 [==============================] - 0s 5ms/step - loss: 0.2884 - accuracy: 0.9134 - val_loss: 0.3015 - val_accuracy: 0.9042\n",
      "Epoch 30/100\n",
      "43/43 [==============================] - 0s 4ms/step - loss: 0.2876 - accuracy: 0.9143 - val_loss: 0.3024 - val_accuracy: 0.9017\n",
      "Epoch 31/100\n",
      "43/43 [==============================] - 0s 4ms/step - loss: 0.2863 - accuracy: 0.9139 - val_loss: 0.3017 - val_accuracy: 0.9067\n",
      "Epoch 32/100\n",
      "43/43 [==============================] - 0s 6ms/step - loss: 0.2864 - accuracy: 0.9162 - val_loss: 0.2998 - val_accuracy: 0.9050\n",
      "Epoch 33/100\n",
      "43/43 [==============================] - 0s 8ms/step - loss: 0.2847 - accuracy: 0.9153 - val_loss: 0.3028 - val_accuracy: 0.9067\n",
      "Epoch 34/100\n",
      "43/43 [==============================] - 0s 8ms/step - loss: 0.2847 - accuracy: 0.9156 - val_loss: 0.3013 - val_accuracy: 0.9017\n",
      "Epoch 35/100\n",
      "43/43 [==============================] - 0s 7ms/step - loss: 0.2841 - accuracy: 0.9155 - val_loss: 0.2998 - val_accuracy: 0.9058\n",
      "Epoch 36/100\n",
      "43/43 [==============================] - 0s 7ms/step - loss: 0.2833 - accuracy: 0.9148 - val_loss: 0.3033 - val_accuracy: 0.9025\n",
      "Epoch 37/100\n",
      "43/43 [==============================] - 0s 6ms/step - loss: 0.2833 - accuracy: 0.9149 - val_loss: 0.2980 - val_accuracy: 0.9067\n",
      "Epoch 38/100\n",
      "43/43 [==============================] - 0s 7ms/step - loss: 0.2824 - accuracy: 0.9140 - val_loss: 0.2998 - val_accuracy: 0.9092\n",
      "Epoch 39/100\n",
      "43/43 [==============================] - 0s 6ms/step - loss: 0.2826 - accuracy: 0.9155 - val_loss: 0.2995 - val_accuracy: 0.9058\n",
      "Epoch 40/100\n",
      "43/43 [==============================] - 0s 7ms/step - loss: 0.2808 - accuracy: 0.9150 - val_loss: 0.3009 - val_accuracy: 0.9033\n",
      "Epoch 41/100\n",
      "43/43 [==============================] - 0s 6ms/step - loss: 0.2803 - accuracy: 0.9158 - val_loss: 0.3008 - val_accuracy: 0.9042\n",
      "Epoch 42/100\n",
      "43/43 [==============================] - 0s 6ms/step - loss: 0.2810 - accuracy: 0.9155 - val_loss: 0.2980 - val_accuracy: 0.9058\n",
      "Epoch 43/100\n",
      "43/43 [==============================] - 0s 5ms/step - loss: 0.2810 - accuracy: 0.9157 - val_loss: 0.2991 - val_accuracy: 0.9067\n",
      "Epoch 44/100\n",
      "43/43 [==============================] - 0s 4ms/step - loss: 0.2805 - accuracy: 0.9156 - val_loss: 0.3021 - val_accuracy: 0.9058\n",
      "Epoch 45/100\n",
      "43/43 [==============================] - 0s 3ms/step - loss: 0.2813 - accuracy: 0.9150 - val_loss: 0.3028 - val_accuracy: 0.9050\n",
      "Epoch 46/100\n",
      "43/43 [==============================] - 0s 3ms/step - loss: 0.2794 - accuracy: 0.9151 - val_loss: 0.2968 - val_accuracy: 0.9042\n",
      "Epoch 47/100\n",
      "43/43 [==============================] - 0s 6ms/step - loss: 0.2795 - accuracy: 0.9162 - val_loss: 0.2981 - val_accuracy: 0.9100\n",
      "Epoch 48/100\n",
      "43/43 [==============================] - 0s 6ms/step - loss: 0.2777 - accuracy: 0.9151 - val_loss: 0.2986 - val_accuracy: 0.9092\n",
      "Epoch 49/100\n",
      "43/43 [==============================] - 0s 6ms/step - loss: 0.2788 - accuracy: 0.9173 - val_loss: 0.2974 - val_accuracy: 0.9092\n",
      "Epoch 50/100\n",
      "43/43 [==============================] - 0s 6ms/step - loss: 0.2779 - accuracy: 0.9164 - val_loss: 0.3008 - val_accuracy: 0.9050\n",
      "Epoch 51/100\n",
      "43/43 [==============================] - 0s 6ms/step - loss: 0.2781 - accuracy: 0.9151 - val_loss: 0.2962 - val_accuracy: 0.9075\n",
      "Epoch 52/100\n",
      "43/43 [==============================] - 0s 7ms/step - loss: 0.2767 - accuracy: 0.9165 - val_loss: 0.2995 - val_accuracy: 0.9067\n",
      "Epoch 53/100\n",
      "43/43 [==============================] - 0s 6ms/step - loss: 0.2773 - accuracy: 0.9155 - val_loss: 0.2962 - val_accuracy: 0.9058\n",
      "Epoch 54/100\n",
      "43/43 [==============================] - 0s 6ms/step - loss: 0.2764 - accuracy: 0.9155 - val_loss: 0.3017 - val_accuracy: 0.9067\n",
      "Epoch 55/100\n",
      "43/43 [==============================] - 0s 6ms/step - loss: 0.2757 - accuracy: 0.9173 - val_loss: 0.3010 - val_accuracy: 0.9058\n",
      "Epoch 56/100\n",
      "43/43 [==============================] - 0s 6ms/step - loss: 0.2754 - accuracy: 0.9171 - val_loss: 0.2986 - val_accuracy: 0.9067\n",
      "Epoch 57/100\n",
      "43/43 [==============================] - 0s 7ms/step - loss: 0.2759 - accuracy: 0.9165 - val_loss: 0.2984 - val_accuracy: 0.9058\n",
      "Epoch 58/100\n",
      "43/43 [==============================] - 0s 7ms/step - loss: 0.2756 - accuracy: 0.9171 - val_loss: 0.2957 - val_accuracy: 0.9083\n",
      "Epoch 59/100\n",
      "43/43 [==============================] - 0s 7ms/step - loss: 0.2775 - accuracy: 0.9160 - val_loss: 0.2990 - val_accuracy: 0.9033\n",
      "Epoch 60/100\n",
      "43/43 [==============================] - 0s 7ms/step - loss: 0.2751 - accuracy: 0.9167 - val_loss: 0.2965 - val_accuracy: 0.9067\n",
      "Epoch 61/100\n",
      "43/43 [==============================] - 0s 6ms/step - loss: 0.2751 - accuracy: 0.9165 - val_loss: 0.2947 - val_accuracy: 0.9092\n",
      "Epoch 62/100\n",
      "43/43 [==============================] - 0s 7ms/step - loss: 0.2752 - accuracy: 0.9156 - val_loss: 0.2977 - val_accuracy: 0.9058\n",
      "Epoch 63/100\n",
      "43/43 [==============================] - 0s 7ms/step - loss: 0.2740 - accuracy: 0.9165 - val_loss: 0.2937 - val_accuracy: 0.9083\n",
      "Epoch 64/100\n",
      "43/43 [==============================] - 0s 7ms/step - loss: 0.2732 - accuracy: 0.9169 - val_loss: 0.2948 - val_accuracy: 0.9075\n",
      "Epoch 65/100\n",
      "43/43 [==============================] - 0s 7ms/step - loss: 0.2743 - accuracy: 0.9169 - val_loss: 0.2964 - val_accuracy: 0.9075\n",
      "Epoch 66/100\n",
      "43/43 [==============================] - 0s 7ms/step - loss: 0.2733 - accuracy: 0.9167 - val_loss: 0.2976 - val_accuracy: 0.9033\n",
      "Epoch 67/100\n",
      "43/43 [==============================] - 0s 7ms/step - loss: 0.2732 - accuracy: 0.9150 - val_loss: 0.2946 - val_accuracy: 0.9075\n",
      "Epoch 68/100\n",
      "43/43 [==============================] - 0s 6ms/step - loss: 0.2732 - accuracy: 0.9155 - val_loss: 0.2941 - val_accuracy: 0.9092\n",
      "Epoch 69/100\n",
      "43/43 [==============================] - 0s 7ms/step - loss: 0.2729 - accuracy: 0.9172 - val_loss: 0.2937 - val_accuracy: 0.9075\n",
      "Epoch 70/100\n",
      "43/43 [==============================] - 0s 6ms/step - loss: 0.2723 - accuracy: 0.9158 - val_loss: 0.2938 - val_accuracy: 0.9075\n",
      "Epoch 71/100\n",
      "43/43 [==============================] - 0s 6ms/step - loss: 0.2709 - accuracy: 0.9181 - val_loss: 0.2978 - val_accuracy: 0.9042\n",
      "Epoch 72/100\n",
      "43/43 [==============================] - 0s 6ms/step - loss: 0.2718 - accuracy: 0.9168 - val_loss: 0.2938 - val_accuracy: 0.9075\n",
      "Epoch 73/100\n",
      "43/43 [==============================] - 0s 6ms/step - loss: 0.2709 - accuracy: 0.9161 - val_loss: 0.2943 - val_accuracy: 0.9083\n",
      "Epoch 74/100\n",
      "43/43 [==============================] - 0s 6ms/step - loss: 0.2713 - accuracy: 0.9164 - val_loss: 0.2939 - val_accuracy: 0.9067\n",
      "Epoch 75/100\n",
      "43/43 [==============================] - 0s 6ms/step - loss: 0.2700 - accuracy: 0.9177 - val_loss: 0.3000 - val_accuracy: 0.9050\n",
      "Epoch 76/100\n",
      "43/43 [==============================] - 0s 7ms/step - loss: 0.2707 - accuracy: 0.9166 - val_loss: 0.2934 - val_accuracy: 0.9067\n",
      "Epoch 77/100\n",
      "43/43 [==============================] - 0s 7ms/step - loss: 0.2710 - accuracy: 0.9154 - val_loss: 0.2930 - val_accuracy: 0.9100\n",
      "Epoch 78/100\n",
      "43/43 [==============================] - 0s 7ms/step - loss: 0.2712 - accuracy: 0.9174 - val_loss: 0.2939 - val_accuracy: 0.9092\n",
      "Epoch 79/100\n",
      "43/43 [==============================] - 0s 6ms/step - loss: 0.2716 - accuracy: 0.9163 - val_loss: 0.2933 - val_accuracy: 0.9075\n",
      "Epoch 80/100\n",
      "43/43 [==============================] - 0s 6ms/step - loss: 0.2708 - accuracy: 0.9171 - val_loss: 0.2942 - val_accuracy: 0.9108\n",
      "Epoch 81/100\n",
      "43/43 [==============================] - 0s 6ms/step - loss: 0.2689 - accuracy: 0.9162 - val_loss: 0.2912 - val_accuracy: 0.9058\n",
      "Epoch 82/100\n",
      "43/43 [==============================] - 0s 7ms/step - loss: 0.2707 - accuracy: 0.9173 - val_loss: 0.2943 - val_accuracy: 0.9075\n",
      "Epoch 83/100\n",
      "43/43 [==============================] - 0s 7ms/step - loss: 0.2715 - accuracy: 0.9172 - val_loss: 0.2923 - val_accuracy: 0.9067\n",
      "Epoch 84/100\n",
      "43/43 [==============================] - 0s 7ms/step - loss: 0.2695 - accuracy: 0.9166 - val_loss: 0.2916 - val_accuracy: 0.9075\n",
      "Epoch 85/100\n",
      "43/43 [==============================] - 0s 6ms/step - loss: 0.2692 - accuracy: 0.9183 - val_loss: 0.2935 - val_accuracy: 0.9075\n",
      "Epoch 86/100\n",
      "43/43 [==============================] - 0s 7ms/step - loss: 0.2686 - accuracy: 0.9175 - val_loss: 0.2917 - val_accuracy: 0.9050\n",
      "Epoch 87/100\n",
      "43/43 [==============================] - 0s 6ms/step - loss: 0.2693 - accuracy: 0.9172 - val_loss: 0.2921 - val_accuracy: 0.9050\n",
      "Epoch 88/100\n",
      "43/43 [==============================] - 0s 6ms/step - loss: 0.2696 - accuracy: 0.9171 - val_loss: 0.2912 - val_accuracy: 0.9083\n",
      "Epoch 89/100\n",
      "43/43 [==============================] - 0s 7ms/step - loss: 0.2694 - accuracy: 0.9178 - val_loss: 0.2910 - val_accuracy: 0.9058\n",
      "Epoch 90/100\n",
      "43/43 [==============================] - 0s 7ms/step - loss: 0.2698 - accuracy: 0.9180 - val_loss: 0.2905 - val_accuracy: 0.9050\n",
      "Epoch 91/100\n",
      "43/43 [==============================] - 0s 6ms/step - loss: 0.2668 - accuracy: 0.9180 - val_loss: 0.2914 - val_accuracy: 0.9058\n",
      "Epoch 92/100\n",
      "43/43 [==============================] - 0s 7ms/step - loss: 0.2678 - accuracy: 0.9169 - val_loss: 0.2912 - val_accuracy: 0.9050\n",
      "Epoch 93/100\n",
      "43/43 [==============================] - 0s 6ms/step - loss: 0.2673 - accuracy: 0.9189 - val_loss: 0.2911 - val_accuracy: 0.9092\n",
      "Epoch 94/100\n",
      "43/43 [==============================] - 0s 6ms/step - loss: 0.2669 - accuracy: 0.9177 - val_loss: 0.2905 - val_accuracy: 0.9042\n",
      "Epoch 95/100\n",
      "43/43 [==============================] - 0s 7ms/step - loss: 0.2655 - accuracy: 0.9180 - val_loss: 0.2923 - val_accuracy: 0.9075\n",
      "Epoch 96/100\n",
      "43/43 [==============================] - 0s 7ms/step - loss: 0.2669 - accuracy: 0.9176 - val_loss: 0.2907 - val_accuracy: 0.9075\n",
      "Epoch 97/100\n",
      "43/43 [==============================] - 0s 6ms/step - loss: 0.2667 - accuracy: 0.9179 - val_loss: 0.2922 - val_accuracy: 0.9050\n",
      "Epoch 98/100\n",
      "43/43 [==============================] - 0s 7ms/step - loss: 0.2658 - accuracy: 0.9186 - val_loss: 0.2888 - val_accuracy: 0.9075\n",
      "Epoch 99/100\n",
      "43/43 [==============================] - 0s 6ms/step - loss: 0.2669 - accuracy: 0.9186 - val_loss: 0.2921 - val_accuracy: 0.9067\n",
      "Epoch 100/100\n",
      "43/43 [==============================] - 0s 6ms/step - loss: 0.2669 - accuracy: 0.9169 - val_loss: 0.2913 - val_accuracy: 0.9083\n"
     ]
    }
   ],
   "source": [
    "catatan = model.fit(x_train, y_train, validation_split=0.1, batch_size=256, epochs=100)"
   ]
  },
  {
   "cell_type": "markdown",
   "id": "4ed62940",
   "metadata": {},
   "source": [
    "# Plot Performa Model"
   ]
  },
  {
   "cell_type": "code",
   "execution_count": 8,
   "id": "09d34ec0",
   "metadata": {},
   "outputs": [
    {
     "data": {
      "image/png": "[encoded data removed]",
      "text/plain": [
       "<Figure size 640x480 with 1 Axes>"
      ]
     },
     "metadata": {},
     "output_type": "display_data"
    }
   ],
   "source": [
    "import matplotlib.pyplot as plt\n",
    "\n",
    "plt.plot(range(len(catatan.history['accuracy'])), catatan.history['accuracy'], 'g',\n",
    "         range(len(catatan.history['val_accuracy'])), catatan.history['val_accuracy'], 'b')\n",
    "plt.show()"
   ]
  },
  {
   "cell_type": "markdown",
   "id": "0aecfb97",
   "metadata": {},
   "source": [
    "# Evaluasi Model"
   ]
  },
  {
   "cell_type": "code",
   "execution_count": 9,
   "id": "586b3ba8",
   "metadata": {},
   "outputs": [
    {
     "name": "stdout",
     "output_type": "stream",
     "text": [
      "94/94 [==============================] - 0s 4ms/step - loss: 0.2808 - accuracy: 0.9100\n",
      "Akurasi Terakhir = 0.9100000262260437\n"
     ]
    }
   ],
   "source": [
    "loss, acc = model.evaluate(x_test, y_test)\n",
    "print(\"Akurasi Terakhir =\", acc)"
   ]
  },
  {
   "cell_type": "code",
   "execution_count": null,
   "id": "4cb8e4cf",
   "metadata": {},
   "outputs": [],
   "source": [
    "# accuracy score"
   ]
  },
  {
   "cell_type": "markdown",
   "id": "51b2722b",
   "metadata": {},
   "source": [
    "# Prediksi Model"
   ]
  },
  {
   "cell_type": "code",
   "execution_count": 10,
   "id": "af3db4f3",
   "metadata": {},
   "outputs": [
    {
     "name": "stdout",
     "output_type": "stream",
     "text": [
      "94/94 [==============================] - 1s 3ms/step\n"
     ]
    },
    {
     "data": {
      "text/plain": [
       "array([[2.2450263e-02, 1.4560762e-03, 1.2815095e-02, 9.6327853e-01],\n",
       "       [9.2144263e-01, 4.6497930e-02, 2.9377440e-02, 2.6819741e-03],\n",
       "       [3.6109216e-04, 3.5164612e-03, 9.9499327e-01, 1.1291957e-03],\n",
       "       ...,\n",
       "       [9.6597010e-01, 1.9428264e-02, 1.1375843e-02, 3.2258106e-03],\n",
       "       [9.3927091e-01, 3.3446081e-02, 2.0831551e-02, 6.4514121e-03],\n",
       "       [3.7664713e-03, 9.8437172e-01, 5.2651721e-03, 6.5965774e-03]],\n",
       "      dtype=float32)"
      ]
     },
     "execution_count": 10,
     "metadata": {},
     "output_type": "execute_result"
    }
   ],
   "source": [
    "model.predict(x_test)"
   ]
  },
  {
   "cell_type": "markdown",
   "id": "c22e5aa1",
   "metadata": {},
   "source": [
    "Di sini, kita akan menggunakan fungsi spesial `np.argmax` untuk mengecek kelas dengan probabilitas tertinggi. Misal jika di antara 5 kelas, hasil prediksinya sebagai berikut,\n",
    "\n",
    "`y_pred = [0.1, 0.3, 0.2, 0.8, 0.4]`\n",
    "\n",
    "maka kita bisa pahami bahwa \n",
    "\n",
    "1. `kelas 0` memiliki probabilitas $10\\%$,\n",
    "2. `kelas 1` memiliki probabilitas $30\\%$,\n",
    "3. `kelas 2` memiliki probabilitas $20\\%$, \n",
    "4. `kelas 3` memiliki probabilitas $80\\%$, dan \n",
    "5. `kelas 4` memiliki probabilitas $40\\%$.\n",
    "\n",
    "Artinya `y_pred` kemungkinan besar termasuk kategori `kelas 3`, diikuti kemungkinan besar kedua, dia termasuk kategori `kelas 4`, dan seterusnya.\n",
    "\n",
    "Nah, jika kita menggunakan `np.argmax`, maka `np.argmax(y_pred)` akan menghasilkan nilai `3`."
   ]
  },
  {
   "cell_type": "code",
   "execution_count": 14,
   "id": "a967a3cc",
   "metadata": {},
   "outputs": [
    {
     "name": "stdout",
     "output_type": "stream",
     "text": [
      "94/94 [==============================] - 0s 3ms/step\n"
     ]
    },
    {
     "data": {
      "text/plain": [
       "array([3, 0, 2, ..., 0, 0, 1], dtype=int64)"
      ]
     },
     "execution_count": 14,
     "metadata": {},
     "output_type": "execute_result"
    }
   ],
   "source": [
    "import numpy as np\n",
    "\n",
    "y_pred = model.predict(x_test)\n",
    "pred = np.argmax(y_pred, axis=1)\n",
    "pred"
   ]
  },
  {
   "cell_type": "markdown",
   "id": "bb6df505",
   "metadata": {},
   "source": [
    "# Evaluasi dengan Confusion Matrix"
   ]
  },
  {
   "cell_type": "code",
   "execution_count": 15,
   "id": "b5090f8e",
   "metadata": {},
   "outputs": [
    {
     "name": "stdout",
     "output_type": "stream",
     "text": [
      "[[719  34  24  17]\n",
      " [  5 675  33   7]\n",
      " [  1  24 646  38]\n",
      " [ 24  16  47 690]]\n"
     ]
    }
   ],
   "source": [
    "from sklearn.metrics import confusion_matrix\n",
    "\n",
    "print(confusion_matrix(pred, y_test))"
   ]
  },
  {
   "cell_type": "markdown",
   "id": "69314b42",
   "metadata": {},
   "source": [
    "# Simpan Model"
   ]
  },
  {
   "cell_type": "markdown",
   "id": "5654db91",
   "metadata": {},
   "source": [
    "Mentraining suatu model membutuhkan waktu yang tidak sedikit, maka dari itu penting kita untuk menyimpan model yang sudah kita training. Untuk menyimpan model, kita bisa pergunakan fungsi `.save_weights`."
   ]
  },
  {
   "cell_type": "code",
   "execution_count": 16,
   "id": "1d512460",
   "metadata": {},
   "outputs": [],
   "source": [
    "model.save_weights('model.h5')"
   ]
  },
  {
   "cell_type": "markdown",
   "id": "7016063b",
   "metadata": {},
   "source": [
    "Jika sudah disimpan, maka anda bisa mendowload file `h5` ini, untuk kemudian anda pakai atau anda transfer kepada orang lain atau komputer untuk langsung anda pergunakan untuk memprediksi sesuatu, atau juga anda bisa lakukan melanjutkan training pada otak yang sudah anda buat.\n",
    "\n",
    "Untuk meload file `h5` ini, anda perlu menyiapkan \n",
    "\n",
    "1. Kerangka otak yang anda buat,\n",
    "2. Compile kerangka otak anda,\n",
    "3. Load file `h5` anda menggunakan `.load_weights`."
   ]
  },
  {
   "cell_type": "code",
   "execution_count": null,
   "id": "7f7a34aa",
   "metadata": {},
   "outputs": [],
   "source": []
  }
 ],
 "metadata": {
  "kernelspec": {
   "display_name": "Python 3 (ipykernel)",
   "language": "python",
   "name": "python3"
  },
  "language_info": {
   "codemirror_mode": {
    "name": "ipython",
    "version": 3
   },
   "file_extension": ".py",
   "mimetype": "text/x-python",
   "name": "python",
   "nbconvert_exporter": "python",
   "pygments_lexer": "ipython3",
   "version": "3.9.18"
  }
 },
 "nbformat": 4,
 "nbformat_minor": 5
}
