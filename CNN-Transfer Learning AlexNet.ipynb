{
  "nbformat": 4,
  "nbformat_minor": 0,
  "metadata": {
    "colab": {
      "provenance": [],
      "gpuType": "T4"
    },
    "kernelspec": {
      "name": "python3",
      "display_name": "Python 3"
    },
    "language_info": {
      "name": "python"
    },
    "accelerator": "GPU"
  },
  "cells": [
    {
      "cell_type": "code",
      "execution_count": null,
      "metadata": {
        "id": "1VADU0uirZvL"
      },
      "outputs": [],
      "source": [
        "#library tensorflow untuk modelling\n",
        "import tensorflow as tf\n",
        "from keras import layers, models"
      ]
    },
    {
      "cell_type": "code",
      "source": [
        "#membuat folder baru\n",
        "!mkdir Semangka\n",
        "!mkdir Apel\n",
        "!mkdir Anggur"
      ],
      "metadata": {
        "id": "WMABtyKYrlfn"
      },
      "execution_count": null,
      "outputs": []
    },
    {
      "cell_type": "code",
      "source": [
        "#install augmentor untuk memperbanyak image\n",
        "!pip install Augmentor"
      ],
      "metadata": {
        "colab": {
          "base_uri": "https://localhost:8080/"
        },
        "id": "qhstUCL6rlyL",
        "outputId": "34c681f3-83a8-4b40-97e4-62fb802bbffa"
      },
      "execution_count": null,
      "outputs": [
        {
          "output_type": "stream",
          "name": "stdout",
          "text": [
            "Collecting Augmentor\n",
            "  Downloading Augmentor-0.2.12-py2.py3-none-any.whl (38 kB)\n",
            "Requirement already satisfied: Pillow>=5.2.0 in /usr/local/lib/python3.10/dist-packages (from Augmentor) (9.4.0)\n",
            "Requirement already satisfied: tqdm>=4.9.0 in /usr/local/lib/python3.10/dist-packages (from Augmentor) (4.66.1)\n",
            "Requirement already satisfied: numpy>=1.11.0 in /usr/local/lib/python3.10/dist-packages (from Augmentor) (1.23.5)\n",
            "Installing collected packages: Augmentor\n",
            "Successfully installed Augmentor-0.2.12\n"
          ]
        }
      ]
    },
    {
      "cell_type": "code",
      "source": [
        "#augmentasi image\n",
        "import Augmentor\n",
        "\n",
        "def perbanyak(ini, sebanyak_ini):\n",
        "  p = Augmentor.Pipeline(source_directory=ini, output_directory='.')\n",
        "  p.random_distortion(probability=1, grid_width=4, grid_height=4, magnitude=1)\n",
        "  p.rotate(probability=0.7, max_left_rotation=12, max_right_rotation=12)\n",
        "  p.zoom_random(probability=0.7, percentage_area=0.9)\n",
        "  p.resize(probability=1, width=64, height=64)\n",
        "  p.sample(sebanyak_ini)\n",
        "\n",
        "perbanyak(\"/content/Semangka\", 500)\n",
        "perbanyak(\"/content/Apel\", 500)\n",
        "perbanyak(\"/content/Anggur\", 500)"
      ],
      "metadata": {
        "colab": {
          "base_uri": "https://localhost:8080/"
        },
        "id": "f85nq6N-rm-R",
        "outputId": "68e215d5-17ce-4194-ed9b-121fe45dfcbf"
      },
      "execution_count": null,
      "outputs": [
        {
          "output_type": "stream",
          "name": "stdout",
          "text": [
            "Initialised with 3 image(s) found.\n",
            "Output directory set to /content/Semangka/.."
          ]
        },
        {
          "output_type": "stream",
          "name": "stderr",
          "text": [
            "Processing <PIL.Image.Image image mode=RGB size=64x64 at 0x7B9239307F70>: 100%|██████████| 500/500 [01:18<00:00,  6.39 Samples/s]\n"
          ]
        },
        {
          "output_type": "stream",
          "name": "stdout",
          "text": [
            "Initialised with 3 image(s) found.\n",
            "Output directory set to /content/Apel/.."
          ]
        },
        {
          "output_type": "stream",
          "name": "stderr",
          "text": [
            "Processing <PIL.Image.Image image mode=RGB size=64x64 at 0x7B92418C74F0>: 100%|██████████| 500/500 [01:36<00:00,  5.16 Samples/s]\n"
          ]
        },
        {
          "output_type": "stream",
          "name": "stdout",
          "text": [
            "Initialised with 3 image(s) found.\n",
            "Output directory set to /content/Anggur/.."
          ]
        },
        {
          "output_type": "stream",
          "name": "stderr",
          "text": [
            "Processing <PIL.Image.Image image mode=RGB size=64x64 at 0x7B9239304E50>: 100%|██████████| 500/500 [02:18<00:00,  3.62 Samples/s]\n"
          ]
        }
      ]
    },
    {
      "cell_type": "code",
      "source": [
        "import glob\n",
        "import cv2\n",
        "import random\n",
        "import numpy as np"
      ],
      "metadata": {
        "id": "ndU8nhKhr1KJ"
      },
      "execution_count": null,
      "outputs": []
    },
    {
      "cell_type": "code",
      "source": [
        "x = []\n",
        "y = []\n",
        "\n",
        "for alamat_gambar in glob.glob(\"Semangka/*\"):\n",
        "  gambar = cv2.imread(alamat_gambar)\n",
        "  gambar = cv2.resize(gambar, (224,224))/255\n",
        "  x.append(gambar)\n",
        "  y.append(0)\n",
        "\n",
        "for alamat_gambar in glob.glob(\"Apel/*\"):\n",
        "  gambar = cv2.imread(alamat_gambar)\n",
        "  gambar = cv2.resize(gambar, (224,224))/255\n",
        "  x.append(gambar)\n",
        "  y.append(1)\n",
        "\n",
        "for alamat_gambar in glob.glob(\"Anggur/*\"):\n",
        "  gambar = cv2.imread(alamat_gambar)\n",
        "  gambar = cv2.resize(gambar, (224,224))/255\n",
        "  x.append(gambar)\n",
        "  y.append(2)\n",
        "\n",
        "z = list(zip(x,y))\n",
        "random.shuffle(z)\n",
        "x,y = zip(*z)\n",
        "x = np.asarray(x)\n",
        "y = np.asarray(y)"
      ],
      "metadata": {
        "id": "l2g0lYHAr3dW"
      },
      "execution_count": null,
      "outputs": []
    },
    {
      "cell_type": "markdown",
      "source": [
        "**Model**"
      ],
      "metadata": {
        "id": "sIgeZAiar7sR"
      }
    },
    {
      "cell_type": "code",
      "source": [
        "#arsitektur\n",
        "\n",
        "def create_alexnet_model(input_shape=(224, 224, 3), num_classes=3):\n",
        "    model = models.Sequential()\n",
        "\n",
        "    # Layer 1\n",
        "    model.add(layers.Conv2D(96, (11, 11), strides=(4, 4), activation='relu', input_shape=input_shape))\n",
        "    model.add(layers.BatchNormalization())\n",
        "    model.add(layers.MaxPooling2D((3, 3), strides=(2, 2)))\n",
        "\n",
        "    # Layer 2\n",
        "    model.add(layers.Conv2D(256, (5, 5), padding='same', activation='relu'))\n",
        "    model.add(layers.BatchNormalization())\n",
        "    model.add(layers.MaxPooling2D((3, 3), strides=(2, 2)))\n",
        "\n",
        "    # Layer 3\n",
        "    model.add(layers.Conv2D(384, (3, 3), padding='same', activation='relu'))\n",
        "\n",
        "    # Layer 4\n",
        "    model.add(layers.Conv2D(384, (3, 3), padding='same', activation='relu'))\n",
        "\n",
        "    # Layer 5\n",
        "    model.add(layers.Conv2D(256, (3, 3), padding='same', activation='relu'))\n",
        "    model.add(layers.BatchNormalization())\n",
        "    model.add(layers.MaxPooling2D((3, 3), strides=(2, 2)))\n",
        "\n",
        "    # Flatten Layer\n",
        "    model.add(layers.Flatten())\n",
        "\n",
        "    # Fully Connected Layers\n",
        "    model.add(layers.Dense(4096, activation='relu'))\n",
        "    model.add(layers.Dropout(0.5))\n",
        "    model.add(layers.Dense(4096, activation='relu'))\n",
        "    model.add(layers.Dropout(0.5))\n",
        "    model.add(layers.Dense(3, activation='softmax'))\n",
        "\n",
        "    return model\n",
        "\n",
        "# Buat model AlexNet\n",
        "alexnet_model = create_alexnet_model(input_shape=(224, 224, 3), num_classes=3)\n",
        "\n",
        "alexnet_model.summary()"
      ],
      "metadata": {
        "colab": {
          "base_uri": "https://localhost:8080/"
        },
        "id": "5S3xtT9Lr4gc",
        "outputId": "c028ee02-ca99-4184-f5df-11bd93319c4f"
      },
      "execution_count": null,
      "outputs": [
        {
          "output_type": "stream",
          "name": "stdout",
          "text": [
            "Model: \"sequential\"\n",
            "_________________________________________________________________\n",
            " Layer (type)                Output Shape              Param #   \n",
            "=================================================================\n",
            " conv2d (Conv2D)             (None, 54, 54, 96)        34944     \n",
            "                                                                 \n",
            " batch_normalization (Batch  (None, 54, 54, 96)        384       \n",
            " Normalization)                                                  \n",
            "                                                                 \n",
            " max_pooling2d (MaxPooling2  (None, 26, 26, 96)        0         \n",
            " D)                                                              \n",
            "                                                                 \n",
            " conv2d_1 (Conv2D)           (None, 26, 26, 256)       614656    \n",
            "                                                                 \n",
            " batch_normalization_1 (Bat  (None, 26, 26, 256)       1024      \n",
            " chNormalization)                                                \n",
            "                                                                 \n",
            " max_pooling2d_1 (MaxPoolin  (None, 12, 12, 256)       0         \n",
            " g2D)                                                            \n",
            "                                                                 \n",
            " conv2d_2 (Conv2D)           (None, 12, 12, 384)       885120    \n",
            "                                                                 \n",
            " conv2d_3 (Conv2D)           (None, 12, 12, 384)       1327488   \n",
            "                                                                 \n",
            " conv2d_4 (Conv2D)           (None, 12, 12, 256)       884992    \n",
            "                                                                 \n",
            " batch_normalization_2 (Bat  (None, 12, 12, 256)       1024      \n",
            " chNormalization)                                                \n",
            "                                                                 \n",
            " max_pooling2d_2 (MaxPoolin  (None, 5, 5, 256)         0         \n",
            " g2D)                                                            \n",
            "                                                                 \n",
            " flatten (Flatten)           (None, 6400)              0         \n",
            "                                                                 \n",
            " dense (Dense)               (None, 4096)              26218496  \n",
            "                                                                 \n",
            " dropout (Dropout)           (None, 4096)              0         \n",
            "                                                                 \n",
            " dense_1 (Dense)             (None, 4096)              16781312  \n",
            "                                                                 \n",
            " dropout_1 (Dropout)         (None, 4096)              0         \n",
            "                                                                 \n",
            " dense_2 (Dense)             (None, 3)                 12291     \n",
            "                                                                 \n",
            "=================================================================\n",
            "Total params: 46761731 (178.38 MB)\n",
            "Trainable params: 46760515 (178.38 MB)\n",
            "Non-trainable params: 1216 (4.75 KB)\n",
            "_________________________________________________________________\n"
          ]
        }
      ]
    },
    {
      "cell_type": "code",
      "source": [
        "alexnet_model.compile(optimizer='adam',\n",
        "                      loss='sparse_categorical_crossentropy',\n",
        "                      metrics=['accuracy'])"
      ],
      "metadata": {
        "id": "f52EGkqXr-7b"
      },
      "execution_count": null,
      "outputs": []
    },
    {
      "cell_type": "code",
      "source": [
        "history = alexnet_model.fit(x,y, batch_size=2, epochs=10, validation_split=0.2)"
      ],
      "metadata": {
        "colab": {
          "base_uri": "https://localhost:8080/"
        },
        "id": "RIITSOTFsA83",
        "outputId": "4d1b7126-6bd5-4aea-8ba2-cee4a7ca89b1"
      },
      "execution_count": null,
      "outputs": [
        {
          "output_type": "stream",
          "name": "stdout",
          "text": [
            "Epoch 1/10\n",
            "604/604 [==============================] - 27s 23ms/step - loss: 16.5355 - accuracy: 0.8326 - val_loss: 29.1708 - val_accuracy: 0.9040\n",
            "Epoch 2/10\n",
            "604/604 [==============================] - 13s 22ms/step - loss: 25.5384 - accuracy: 0.9362 - val_loss: 347.4898 - val_accuracy: 0.7881\n",
            "Epoch 3/10\n",
            "604/604 [==============================] - 13s 22ms/step - loss: 10.3797 - accuracy: 0.9735 - val_loss: 3.1766 - val_accuracy: 0.9934\n",
            "Epoch 4/10\n",
            "604/604 [==============================] - 13s 22ms/step - loss: 7.3432 - accuracy: 0.9876 - val_loss: 0.0000e+00 - val_accuracy: 1.0000\n",
            "Epoch 5/10\n",
            "604/604 [==============================] - 14s 23ms/step - loss: 10.1255 - accuracy: 0.9892 - val_loss: 0.0000e+00 - val_accuracy: 1.0000\n",
            "Epoch 6/10\n",
            "604/604 [==============================] - 14s 22ms/step - loss: 15.0001 - accuracy: 0.9876 - val_loss: 0.0000e+00 - val_accuracy: 1.0000\n",
            "Epoch 7/10\n",
            "604/604 [==============================] - 13s 22ms/step - loss: 21.1318 - accuracy: 0.9859 - val_loss: 4.7194 - val_accuracy: 0.9868\n",
            "Epoch 8/10\n",
            "604/604 [==============================] - 13s 22ms/step - loss: 4.7094 - accuracy: 0.9950 - val_loss: 0.0000e+00 - val_accuracy: 1.0000\n",
            "Epoch 9/10\n",
            "604/604 [==============================] - 13s 22ms/step - loss: 4.0430 - accuracy: 0.9950 - val_loss: 0.0000e+00 - val_accuracy: 1.0000\n",
            "Epoch 10/10\n",
            "604/604 [==============================] - 13s 22ms/step - loss: 2.5430 - accuracy: 0.9950 - val_loss: 0.0000e+00 - val_accuracy: 1.0000\n"
          ]
        }
      ]
    },
    {
      "cell_type": "code",
      "source": [
        "import matplotlib.pyplot as plt"
      ],
      "metadata": {
        "id": "fnArHGBFsEFJ"
      },
      "execution_count": null,
      "outputs": []
    },
    {
      "cell_type": "code",
      "source": [
        "y1 = history.history['loss']\n",
        "y2 = history.history['val_loss']\n",
        "plt.plot(range(len(y1)), y1, 'g',\n",
        "         range(len(y2)), y2, 'b')\n",
        "\n",
        "plt.show()"
      ],
      "metadata": {
        "colab": {
          "base_uri": "https://localhost:8080/",
          "height": 430
        },
        "id": "T5leXskOsFWb",
        "outputId": "ef87f551-4b4c-4400-927a-bb59c4803c12"
      },
      "execution_count": null,
      "outputs": [
        {
          "output_type": "display_data",
          "data": {
            "text/plain": [
              "<Figure size 640x480 with 1 Axes>"
            ],
            "image/png": "[encoded data removed]"
          },
          "metadata": {}
        }
      ]
    },
    {
      "cell_type": "code",
      "source": [
        "y1 = history.history['accuracy']\n",
        "y2 = history.history['val_accuracy']\n",
        "plt.plot(range(len(y1)), y1, 'g',\n",
        "         range(len(y2)), y2, 'b')\n",
        "\n",
        "plt.show()"
      ],
      "metadata": {
        "colab": {
          "base_uri": "https://localhost:8080/",
          "height": 430
        },
        "id": "1wMew47lsKT7",
        "outputId": "7d8c306e-ff0a-4839-d9b6-9b1f94da8573"
      },
      "execution_count": null,
      "outputs": [
        {
          "output_type": "display_data",
          "data": {
            "text/plain": [
              "<Figure size 640x480 with 1 Axes>"
            ],
            "image/png": "[encoded data removed]"
          },
          "metadata": {}
        }
      ]
    },
    {
      "cell_type": "code",
      "source": [
        "#prediksi gambar baru\n",
        "img_baru = cv2.imread('image.jpeg')\n",
        "img_baru = cv2.resize(img_baru, (224, 224))/255\n",
        "x_test = []\n",
        "x_test.append(img_baru)\n",
        "x_test = np.array(x_test)\n",
        "pred = alexnet_model.predict(x_test)\n",
        "\n",
        "kamus = {0:\"Semangka\",\n",
        "         1:\"Apel\",\n",
        "         2:\"Anggur\"}\n",
        "\n",
        "\n",
        "pred = np.argmax(pred, axis=1)\n",
        "pred = [kamus[i] for i in pred]\n",
        "print('Prediksi Gambar = ', pred[0])"
      ],
      "metadata": {
        "colab": {
          "base_uri": "https://localhost:8080/"
        },
        "id": "9plhVDaXsKwz",
        "outputId": "0a75f572-7e37-484f-dfec-dcb8ce1d5da6"
      },
      "execution_count": null,
      "outputs": [
        {
          "output_type": "stream",
          "name": "stdout",
          "text": [
            "1/1 [==============================] - 0s 28ms/step\n",
            "Prediksi Gambar =  Anggur\n"
          ]
        }
      ]
    }
  ]
}