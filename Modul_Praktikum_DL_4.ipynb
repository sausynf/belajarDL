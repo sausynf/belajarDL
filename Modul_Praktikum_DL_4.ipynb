{
  "nbformat": 4,
  "nbformat_minor": 0,
  "metadata": {
    "colab": {
      "provenance": []
    },
    "kernelspec": {
      "name": "python3",
      "display_name": "Python 3"
    },
    "language_info": {
      "name": "python"
    }
  },
  "cells": [
    {
      "cell_type": "markdown",
      "source": [
        "# Pertemuan 5 (Convolutional Neural Network)\n",
        "\n",
        "### Mata Kuliah Pembelajaran Mendalam"
      ],
      "metadata": {
        "id": "4dI0GlQRTcyW"
      }
    },
    {
      "cell_type": "markdown",
      "source": [
        "## Latihan Membuat Model"
      ],
      "metadata": {
        "id": "hFnQq7yzTYQG"
      }
    },
    {
      "cell_type": "markdown",
      "source": [
        "### 1 - Import Library"
      ],
      "metadata": {
        "id": "Sj3YQKW9TZXs"
      }
    },
    {
      "cell_type": "code",
      "execution_count": null,
      "metadata": {
        "id": "u1TiKpa_O9nG"
      },
      "outputs": [],
      "source": [
        "# Import Library yang digunakan\n",
        "import matplotlib.pyplot as plt\n",
        "import cv2\n",
        "import numpy as np\n",
        "from keras import layers, models\n",
        "from keras.datasets import mnist"
      ]
    },
    {
      "cell_type": "markdown",
      "source": [
        "### 2 - Read and Split Dataset"
      ],
      "metadata": {
        "id": "-qu25v4NS_gj"
      }
    },
    {
      "cell_type": "markdown",
      "source": [
        "Menggunakan dataset \"MNIST\" yang tersedia.\n",
        "\n",
        "MNIST dataset adalah data besar berisi angka-angka tulisan tangan yang biasa digunakan untuk melatih berbagai sistem pemrosesan gambar.\n",
        "\n",
        "Link dataset kaggle: https://www.kaggle.com/datasets/hojjatk/mnist-dataset"
      ],
      "metadata": {
        "id": "FQpd6dyoS8pN"
      }
    },
    {
      "cell_type": "code",
      "source": [
        "# Load dataset and split data train and test\n",
        "(x_train, y_train), (x_test, y_test) = mnist.load_data()"
      ],
      "metadata": {
        "colab": {
          "base_uri": "https://localhost:8080/"
        },
        "id": "LAAq8Y_eSqgL",
        "outputId": "4d723fae-7d48-4ba5-c617-2db5c2de6a8e"
      },
      "execution_count": null,
      "outputs": [
        {
          "output_type": "stream",
          "name": "stdout",
          "text": [
            "Downloading data from https://storage.googleapis.com/tensorflow/tf-keras-datasets/mnist.npz\n",
            "11490434/11490434 [==============================] - 0s 0us/step\n"
          ]
        }
      ]
    },
    {
      "cell_type": "code",
      "source": [
        "# Read data\n",
        "plt.imshow(x_train[0], cmap='gray')"
      ],
      "metadata": {
        "colab": {
          "base_uri": "https://localhost:8080/",
          "height": 447
        },
        "id": "2cfO0NRnSr6I",
        "outputId": "9eab6c2d-af09-4adc-e51a-dd7dfdd41421"
      },
      "execution_count": null,
      "outputs": [
        {
          "output_type": "execute_result",
          "data": {
            "text/plain": [
              "<matplotlib.image.AxesImage at 0x7dc77a76e7d0>"
            ]
          },
          "metadata": {},
          "execution_count": 3
        },
        {
          "output_type": "display_data",
          "data": {
            "text/plain": [
              "<Figure size 640x480 with 1 Axes>"
            ],
            "image/png": "[encoded data removed]"
          },
          "metadata": {}
        }
      ]
    },
    {
      "cell_type": "markdown",
      "source": [
        "### 3 - Preprocessing"
      ],
      "metadata": {
        "id": "ea_smJ8CSyCI"
      }
    },
    {
      "cell_type": "code",
      "source": [
        "# Reshipe and Normalize data\n",
        "x_train = x_train.reshape(60000, 28, 28, 1)\n",
        "x_test = x_test.reshape(10000, 28, 28, 1)\n",
        "x_train = x_train/255\n",
        "x_test = x_test/255"
      ],
      "metadata": {
        "id": "7KpMgAM9StXg"
      },
      "execution_count": null,
      "outputs": []
    },
    {
      "cell_type": "markdown",
      "source": [
        "> x_train dan x_test direshape dengan ukuran 60000 data, ukuran 28x28 dan warna grayscale.\n",
        "\n",
        "> x_train dan x_test dilakukan normalisasi."
      ],
      "metadata": {
        "id": "XVMif_gCSwRh"
      }
    },
    {
      "cell_type": "code",
      "source": [
        "# Check Class Data\n",
        "set(y_train.tolist())"
      ],
      "metadata": {
        "colab": {
          "base_uri": "https://localhost:8080/"
        },
        "id": "AfcHZOdBTD2k",
        "outputId": "bdb4c849-c31e-4d25-c73c-7d5e862bdbbf"
      },
      "execution_count": null,
      "outputs": [
        {
          "output_type": "execute_result",
          "data": {
            "text/plain": [
              "{0, 1, 2, 3, 4, 5, 6, 7, 8, 9}"
            ]
          },
          "metadata": {},
          "execution_count": 5
        }
      ]
    },
    {
      "cell_type": "markdown",
      "source": [
        "Terlihat bahwa terdapat 10 kelas dataset yaitu angka 0 - 9."
      ],
      "metadata": {
        "id": "nzaF589aTC1g"
      }
    },
    {
      "cell_type": "markdown",
      "source": [
        "### 4 - Pemodelan Menggunakan CNN"
      ],
      "metadata": {
        "id": "vjGaAlveTHrK"
      }
    },
    {
      "cell_type": "code",
      "source": [
        "# Create CNN Architecture\n",
        "model = models.Sequential([\n",
        "    layers.Conv2D(32, (3, 3), activation='relu', input_shape=(28, 28, 1)),\n",
        "    layers.MaxPooling2D((2, 2)),\n",
        "    layers.Conv2D(64, (3, 3), activation='relu'),\n",
        "    layers.MaxPooling2D((2, 2)),\n",
        "    layers.Flatten(),\n",
        "    layers.Dense(64, activation='relu'),\n",
        "    layers.Dense(10, activation='softmax')\n",
        "]\n",
        ")"
      ],
      "metadata": {
        "id": "ifFv79UYSuwO"
      },
      "execution_count": null,
      "outputs": []
    },
    {
      "cell_type": "code",
      "source": [
        "# Summary Data\n",
        "model.summary()"
      ],
      "metadata": {
        "colab": {
          "base_uri": "https://localhost:8080/"
        },
        "id": "ceUekBbAUScM",
        "outputId": "2d74c12b-6240-4390-c220-1293b59d8787"
      },
      "execution_count": null,
      "outputs": [
        {
          "output_type": "stream",
          "name": "stdout",
          "text": [
            "Model: \"sequential\"\n",
            "_________________________________________________________________\n",
            " Layer (type)                Output Shape              Param #   \n",
            "=================================================================\n",
            " conv2d (Conv2D)             (None, 26, 26, 32)        320       \n",
            "                                                                 \n",
            " max_pooling2d (MaxPooling2  (None, 13, 13, 32)        0         \n",
            " D)                                                              \n",
            "                                                                 \n",
            " conv2d_1 (Conv2D)           (None, 11, 11, 64)        18496     \n",
            "                                                                 \n",
            " max_pooling2d_1 (MaxPoolin  (None, 5, 5, 64)          0         \n",
            " g2D)                                                            \n",
            "                                                                 \n",
            " flatten (Flatten)           (None, 1600)              0         \n",
            "                                                                 \n",
            " dense (Dense)               (None, 64)                102464    \n",
            "                                                                 \n",
            " dense_1 (Dense)             (None, 10)                650       \n",
            "                                                                 \n",
            "=================================================================\n",
            "Total params: 121930 (476.29 KB)\n",
            "Trainable params: 121930 (476.29 KB)\n",
            "Non-trainable params: 0 (0.00 Byte)\n",
            "_________________________________________________________________\n"
          ]
        }
      ]
    },
    {
      "cell_type": "markdown",
      "source": [
        "### 5 - Compile Model"
      ],
      "metadata": {
        "id": "F76gNLdQUbbO"
      }
    },
    {
      "cell_type": "code",
      "source": [
        "# Compile Model\n",
        "model.compile(optimizer='adam', loss='sparse_categorical_crossentropy', metrics=['accuracy'])"
      ],
      "metadata": {
        "id": "MnxBp34cUc7w"
      },
      "execution_count": null,
      "outputs": []
    },
    {
      "cell_type": "markdown",
      "source": [
        "### 6 - Training Model"
      ],
      "metadata": {
        "id": "g_NbAfJAUZW_"
      }
    },
    {
      "cell_type": "code",
      "source": [
        "# Training Model\n",
        "hasil = model.fit(x_train, y_train, epochs=10, batch_size=256, validation_split=0.2)"
      ],
      "metadata": {
        "colab": {
          "base_uri": "https://localhost:8080/"
        },
        "id": "ElOw7rLtUYWG",
        "outputId": "bcad2aa0-cb97-43f7-c42d-832b145991e9"
      },
      "execution_count": null,
      "outputs": [
        {
          "output_type": "stream",
          "name": "stdout",
          "text": [
            "Epoch 1/10\n",
            "188/188 [==============================] - 37s 190ms/step - loss: 0.3860 - accuracy: 0.8895 - val_loss: 0.1105 - val_accuracy: 0.9683\n",
            "Epoch 2/10\n",
            "188/188 [==============================] - 38s 201ms/step - loss: 0.0880 - accuracy: 0.9738 - val_loss: 0.0720 - val_accuracy: 0.9783\n",
            "Epoch 3/10\n",
            "188/188 [==============================] - 33s 176ms/step - loss: 0.0611 - accuracy: 0.9811 - val_loss: 0.0623 - val_accuracy: 0.9796\n",
            "Epoch 4/10\n",
            "188/188 [==============================] - 34s 181ms/step - loss: 0.0482 - accuracy: 0.9854 - val_loss: 0.0534 - val_accuracy: 0.9840\n",
            "Epoch 5/10\n",
            "188/188 [==============================] - 34s 179ms/step - loss: 0.0397 - accuracy: 0.9876 - val_loss: 0.0476 - val_accuracy: 0.9865\n",
            "Epoch 6/10\n",
            "188/188 [==============================] - 32s 169ms/step - loss: 0.0333 - accuracy: 0.9893 - val_loss: 0.0473 - val_accuracy: 0.9852\n",
            "Epoch 7/10\n",
            "188/188 [==============================] - 34s 182ms/step - loss: 0.0293 - accuracy: 0.9910 - val_loss: 0.0427 - val_accuracy: 0.9883\n",
            "Epoch 8/10\n",
            "188/188 [==============================] - 32s 169ms/step - loss: 0.0248 - accuracy: 0.9926 - val_loss: 0.0397 - val_accuracy: 0.9882\n",
            "Epoch 9/10\n",
            "188/188 [==============================] - 36s 194ms/step - loss: 0.0208 - accuracy: 0.9936 - val_loss: 0.0443 - val_accuracy: 0.9876\n",
            "Epoch 10/10\n",
            "188/188 [==============================] - 33s 178ms/step - loss: 0.0190 - accuracy: 0.9938 - val_loss: 0.0459 - val_accuracy: 0.9877\n"
          ]
        }
      ]
    },
    {
      "cell_type": "code",
      "source": [
        "# Evaluate using Matplotlib\n",
        "y1 = hasil.history['accuracy']\n",
        "y2 = hasil.history['val_accuracy']\n",
        "plt.plot(range(len(y1)), y1, 'g',\n",
        "         range(len(y2)), y2, 'b')\n",
        "\n",
        "plt.show()"
      ],
      "metadata": {
        "colab": {
          "base_uri": "https://localhost:8080/",
          "height": 430
        },
        "id": "8mP6kidoUYAw",
        "outputId": "1df0c470-3e77-4f47-cfea-35789e3b2c47"
      },
      "execution_count": null,
      "outputs": [
        {
          "output_type": "display_data",
          "data": {
            "text/plain": [
              "<Figure size 640x480 with 1 Axes>"
            ],
            "image/png": "[encoded data removed]"
          },
          "metadata": {}
        }
      ]
    },
    {
      "cell_type": "markdown",
      "source": [
        "### 7 - Evaluasi Model"
      ],
      "metadata": {
        "id": "SIL6XdQ1Us3o"
      }
    },
    {
      "cell_type": "code",
      "source": [
        "# Test Accuracy model\n",
        "test_loss, test_accuracy = model.evaluate(x_test, y_test)\n",
        "print(\"Test Accuracy = \", test_accuracy)"
      ],
      "metadata": {
        "colab": {
          "base_uri": "https://localhost:8080/"
        },
        "id": "uxbBGjFFUuGh",
        "outputId": "13974836-b0e8-49df-8e71-d2276efe9b29"
      },
      "execution_count": null,
      "outputs": [
        {
          "output_type": "stream",
          "name": "stdout",
          "text": [
            "313/313 [==============================] - 2s 8ms/step - loss: 0.0338 - accuracy: 0.9890\n",
            "Test Accuracy =  0.9890000224113464\n"
          ]
        }
      ]
    },
    {
      "cell_type": "markdown",
      "source": [
        "### 8 - Prediksi"
      ],
      "metadata": {
        "id": "uhq93R7iUssB"
      }
    },
    {
      "cell_type": "code",
      "source": [
        "# Upload test image\n",
        "img = cv2.imread('angka enam.jpg')\n",
        "img = cv2.cvtColor(img, cv2.COLOR_BGR2GRAY)\n",
        "plt.imshow(img, cmap='gray')"
      ],
      "metadata": {
        "colab": {
          "base_uri": "https://localhost:8080/",
          "height": 452
        },
        "id": "8osVAJXdUvjl",
        "outputId": "a9684f3c-2264-40bc-f8d4-17555a1c03b1"
      },
      "execution_count": null,
      "outputs": [
        {
          "output_type": "execute_result",
          "data": {
            "text/plain": [
              "<matplotlib.image.AxesImage at 0x7dc74b417a30>"
            ]
          },
          "metadata": {},
          "execution_count": 17
        },
        {
          "output_type": "display_data",
          "data": {
            "text/plain": [
              "<Figure size 640x480 with 1 Axes>"
            ],
            "image/png": "[encoded data removed]"
          },
          "metadata": {}
        }
      ]
    },
    {
      "cell_type": "code",
      "source": [
        "img.shape"
      ],
      "metadata": {
        "colab": {
          "base_uri": "https://localhost:8080/"
        },
        "id": "xd3CwA1fZlcD",
        "outputId": "a6fc565d-6290-4104-f2de-a77b2a804f57"
      },
      "execution_count": null,
      "outputs": [
        {
          "output_type": "execute_result",
          "data": {
            "text/plain": [
              "(600, 600)"
            ]
          },
          "metadata": {},
          "execution_count": 18
        }
      ]
    },
    {
      "cell_type": "code",
      "source": [
        "img = cv2.resize(img, (28, 28))\n",
        "plt.imshow(img, cmap='gray')"
      ],
      "metadata": {
        "colab": {
          "base_uri": "https://localhost:8080/",
          "height": 447
        },
        "id": "DTZMbv_1Z-bg",
        "outputId": "009f8fe7-54b9-4987-b2d3-af6af84a5775"
      },
      "execution_count": null,
      "outputs": [
        {
          "output_type": "execute_result",
          "data": {
            "text/plain": [
              "<matplotlib.image.AxesImage at 0x7dc77753b310>"
            ]
          },
          "metadata": {},
          "execution_count": 21
        },
        {
          "output_type": "display_data",
          "data": {
            "text/plain": [
              "<Figure size 640x480 with 1 Axes>"
            ],
            "image/png": "[encoded data removed]"
          },
          "metadata": {}
        }
      ]
    },
    {
      "cell_type": "code",
      "source": [
        "img = img / 255\n",
        "img = img.reshape((1, 28, 28, 1))\n",
        "img.shape"
      ],
      "metadata": {
        "colab": {
          "base_uri": "https://localhost:8080/"
        },
        "id": "bvOUbHbIaMze",
        "outputId": "178153f6-ce08-4205-f29e-4514fae679e9"
      },
      "execution_count": null,
      "outputs": [
        {
          "output_type": "execute_result",
          "data": {
            "text/plain": [
              "(1, 28, 28, 1)"
            ]
          },
          "metadata": {},
          "execution_count": 22
        }
      ]
    },
    {
      "cell_type": "code",
      "source": [
        "pred = model.predict(img)\n",
        "pred = np.argmax(pred)\n",
        "print('Prediksi Gambar, Angka = ', pred)"
      ],
      "metadata": {
        "colab": {
          "base_uri": "https://localhost:8080/"
        },
        "id": "spvOEaaAajq1",
        "outputId": "34b82647-4734-4786-bcc8-41025c399bcf"
      },
      "execution_count": null,
      "outputs": [
        {
          "output_type": "stream",
          "name": "stdout",
          "text": [
            "1/1 [==============================] - 0s 456ms/step\n",
            "Prediksi Gambar, Angka =  8\n"
          ]
        }
      ]
    }
  ]
}