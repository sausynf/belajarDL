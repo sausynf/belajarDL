{
  "nbformat": 4,
  "nbformat_minor": 0,
  "metadata": {
    "colab": {
      "provenance": [],
      "gpuType": "T4"
    },
    "kernelspec": {
      "name": "python3",
      "display_name": "Python 3"
    },
    "language_info": {
      "name": "python"
    },
    "accelerator": "GPU"
  },
  "cells": [
    {
      "cell_type": "code",
      "source": [
        "#import library\n",
        "import pandas as pd #library untuk manipulasi data\n",
        "import numpy as np #library untuk operasi numerik di Python\n",
        "import matplotlib.pyplot as plt #library untuk membuat visualisasi\n",
        "\n",
        "from tensorflow.keras.preprocessing.text import Tokenizer #dipergunakan untuk membuat kamus per kata yang ada dalam kalimat\n",
        "from tensorflow.keras.preprocessing.sequence import pad_sequences #pad_sequences dipergunakan untuk menambahkan padding\n",
        "\n",
        "#mengimpor kelas sequential dari library Keras\n",
        "from keras.models import Sequential\n",
        "from keras.layers import Dense, GRU, TimeDistributed"
      ],
      "metadata": {
        "id": "z-BRq-YpjMyB"
      },
      "execution_count": null,
      "outputs": []
    },
    {
      "cell_type": "code",
      "source": [
        "#Membaca file dalam format fixed-width\n",
        "bhs_x = pd.read_fwf('/content/bahasa_uh.txt', header=None, delimiter='\\t').values[:,0]\n",
        "bhs_y = pd.read_fwf('/content/bahasa_ah.txt', header=None, delimiter='\\t').values[:,0]"
      ],
      "metadata": {
        "id": "RzRtPD85kAxP"
      },
      "execution_count": null,
      "outputs": []
    },
    {
      "cell_type": "code",
      "source": [
        "bhs_x[0]"
      ],
      "metadata": {
        "colab": {
          "base_uri": "https://localhost:8080/",
          "height": 36
        },
        "id": "yI5JkapkkJuK",
        "outputId": "de4191ea-0225-41d3-8709-caf2630a49c6"
      },
      "execution_count": null,
      "outputs": [
        {
          "output_type": "execute_result",
          "data": {
            "text/plain": [
              "'ih uh eh ah ah uh uh ah oh uh eh oh oh oh eh ih eh ih uh eh'"
            ],
            "application/vnd.google.colaboratory.intrinsic+json": {
              "type": "string"
            }
          },
          "metadata": {},
          "execution_count": 16
        }
      ]
    },
    {
      "cell_type": "code",
      "source": [
        "bhs_y[0]"
      ],
      "metadata": {
        "colab": {
          "base_uri": "https://localhost:8080/",
          "height": 36
        },
        "id": "T9GHJfp8kgK3",
        "outputId": "2c087a7d-dce9-4316-9261-0619d6b09ebc"
      },
      "execution_count": null,
      "outputs": [
        {
          "output_type": "execute_result",
          "data": {
            "text/plain": [
              "'ih uh eh ah ahh uhh uhhh ahhh oh uhhhh ehh ohh ohhh ohhhh ehhh ihh ehhhh ihhh uhhhhh ehhhhh'"
            ],
            "application/vnd.google.colaboratory.intrinsic+json": {
              "type": "string"
            }
          },
          "metadata": {},
          "execution_count": 17
        }
      ]
    },
    {
      "cell_type": "code",
      "source": [
        "#membangun kamus bahasa \"uh\"\n",
        "token_uh = Tokenizer() #untuk membuat kamus per kata dari data bahasa \"uh\"\n",
        "token_uh.fit_on_texts(bhs_x) #mengajarkan Tokenizer untuk mengenali kata-kata yang muncul dalam bhs_x\n",
        "kosakata_x = len(token_uh.word_index) #menyimpan jumlah kata unik dalam kamus yang telah dibangun\n",
        "\n",
        "#mengonversi teks \"uh\" ke dalam representasi numerik\n",
        "v_bhs_x = token_uh.texts_to_sequences(bhs_x) #mengonversi setiap kata dalam bhs_x menjadi bilangan bulat berdasarkan kamus yang telah dibangun\n",
        "v_bhs_x = pad_sequences(v_bhs_x, maxlen=20, padding='post') #menambahkan padding pada urutan sehingga memiliki panjang max 20, dengan padding ditambahkan di bagian belakang\n",
        "v_bhs_x = v_bhs_x.reshape(v_bhs_x.shape[0], v_bhs_x.shape[1], 1) #mengubah bentuk data agar sesuai untuk dimasukkan ke dalam model RNN\n",
        "\n",
        "#membangun kamus bahasa \"ah\"\n",
        "token_ah = Tokenizer() #untuk membuat kamus per kata dari data bahasa \"ah\"\n",
        "token_ah.fit_on_texts(bhs_y) #mengajarkan Tokenizer untuk mengenali kata-kata yang muncul dalam bhs_y\n",
        "kosakata_y = len(token_ah.word_index) #menyimpan jumlah kata unik dalam kamus yang telah dibangun\n",
        "\n",
        "#mengonversi teks \"ah\" ke dalam representasi numerik\n",
        "v_bhs_y = token_ah.texts_to_sequences(bhs_y) #mengonversi setiap kata dalam bhs_y menjadi bilangan bulat berdasarkan kamus yang telah dibangun\n",
        "v_bhs_y = pad_sequences(v_bhs_y, maxlen=20, padding='post') #menambahkan padding pada urutan sehingga memiliki panjang max 20, dengan padding ditambahkan di bagian belakang\n",
        "v_bhs_y = v_bhs_y.reshape(v_bhs_y.shape[0], v_bhs_y.shape[1], 1) #mengubah bentuk data agar sesuai untuk dimasukkan ke dalam model RNN."
      ],
      "metadata": {
        "id": "MkKqjB42kiZX"
      },
      "execution_count": null,
      "outputs": []
    },
    {
      "cell_type": "code",
      "source": [
        "token_uh.word_index"
      ],
      "metadata": {
        "colab": {
          "base_uri": "https://localhost:8080/"
        },
        "id": "EW-Ky90PnEj4",
        "outputId": "5655399b-b00f-49ac-e150-b0ca6fb2c81c"
      },
      "execution_count": null,
      "outputs": [
        {
          "output_type": "execute_result",
          "data": {
            "text/plain": [
              "{'uh': 1, 'eh': 2, 'oh': 3, 'ih': 4, 'ah': 5}"
            ]
          },
          "metadata": {},
          "execution_count": 19
        }
      ]
    },
    {
      "cell_type": "code",
      "source": [
        "model = Sequential() #membuat model jaringan saraf dengan tipe sequential\n",
        "\n",
        "model.add(GRU(32, input_shape=v_bhs_x.shape[1:], return_sequences=True)) #menambahkan lapisan GRU dengan 32 unit sel\n",
        "model.add(TimeDistributed(Dense(64, activation='relu'))) #menambahkan lapisan waktu terdistribusi (TimeDistributed) dan lapisan dense\n",
        "model.add(TimeDistributed(Dense(kosakata_y+1, activation='softmax'))) #menambahkan lapisan dense terdistribusi untuk output\n",
        "\n",
        "#mengompilasi model\n",
        "model.compile(optimizer='adam', loss='sparse_categorical_crossentropy', metrics=['accuracy'])"
      ],
      "metadata": {
        "id": "kDNx5pf7oR7c"
      },
      "execution_count": null,
      "outputs": []
    },
    {
      "cell_type": "code",
      "source": [
        "model.summary()"
      ],
      "metadata": {
        "colab": {
          "base_uri": "https://localhost:8080/"
        },
        "id": "217frGcBqKfO",
        "outputId": "cec871a2-9411-4c51-ccdc-47f02b5dd8f3"
      },
      "execution_count": null,
      "outputs": [
        {
          "output_type": "stream",
          "name": "stdout",
          "text": [
            "Model: \"sequential_1\"\n",
            "_________________________________________________________________\n",
            " Layer (type)                Output Shape              Param #   \n",
            "=================================================================\n",
            " gru_1 (GRU)                 (None, 20, 32)            3360      \n",
            "                                                                 \n",
            " time_distributed_2 (TimeDi  (None, 20, 64)            2112      \n",
            " stributed)                                                      \n",
            "                                                                 \n",
            " time_distributed_3 (TimeDi  (None, 20, 58)            3770      \n",
            " stributed)                                                      \n",
            "                                                                 \n",
            "=================================================================\n",
            "Total params: 9242 (36.10 KB)\n",
            "Trainable params: 9242 (36.10 KB)\n",
            "Non-trainable params: 0 (0.00 Byte)\n",
            "_________________________________________________________________\n"
          ]
        }
      ]
    },
    {
      "cell_type": "code",
      "source": [
        "history = model.fit(v_bhs_x, v_bhs_y, batch_size=1, epochs=10, validation_split=0.2)"
      ],
      "metadata": {
        "colab": {
          "base_uri": "https://localhost:8080/"
        },
        "id": "mRSu9EGuqvJu",
        "outputId": "e52fb39b-772a-440e-cf86-cd787a5ce711"
      },
      "execution_count": null,
      "outputs": [
        {
          "output_type": "stream",
          "name": "stdout",
          "text": [
            "Epoch 1/10\n",
            "8000/8000 [==============================] - 50s 6ms/step - loss: 1.2196 - accuracy: 0.5280 - val_loss: 0.7429 - val_accuracy: 0.7190\n",
            "Epoch 2/10\n",
            "8000/8000 [==============================] - 46s 6ms/step - loss: 0.5356 - accuracy: 0.8069 - val_loss: 0.2989 - val_accuracy: 0.9205\n",
            "Epoch 3/10\n",
            "8000/8000 [==============================] - 42s 5ms/step - loss: 0.2129 - accuracy: 0.9434 - val_loss: 0.1422 - val_accuracy: 0.9729\n",
            "Epoch 4/10\n",
            "8000/8000 [==============================] - 39s 5ms/step - loss: 0.1135 - accuracy: 0.9732 - val_loss: 0.0689 - val_accuracy: 0.9886\n",
            "Epoch 5/10\n",
            "8000/8000 [==============================] - 40s 5ms/step - loss: 0.0767 - accuracy: 0.9827 - val_loss: 0.0460 - val_accuracy: 0.9938\n",
            "Epoch 6/10\n",
            "8000/8000 [==============================] - 39s 5ms/step - loss: 0.0586 - accuracy: 0.9868 - val_loss: 0.0324 - val_accuracy: 0.9936\n",
            "Epoch 7/10\n",
            "8000/8000 [==============================] - 39s 5ms/step - loss: 0.0487 - accuracy: 0.9889 - val_loss: 0.0244 - val_accuracy: 0.9963\n",
            "Epoch 8/10\n",
            "8000/8000 [==============================] - 39s 5ms/step - loss: 0.0436 - accuracy: 0.9905 - val_loss: 0.0274 - val_accuracy: 0.9927\n",
            "Epoch 9/10\n",
            "8000/8000 [==============================] - 38s 5ms/step - loss: 0.0412 - accuracy: 0.9910 - val_loss: 0.0494 - val_accuracy: 0.9862\n",
            "Epoch 10/10\n",
            "8000/8000 [==============================] - 40s 5ms/step - loss: 0.0374 - accuracy: 0.9918 - val_loss: 0.0180 - val_accuracy: 0.9973\n"
          ]
        }
      ]
    },
    {
      "cell_type": "code",
      "source": [
        "y1 = history.history['loss']\n",
        "y2 = history.history['val_loss']\n",
        "plt.plot(range(len(y1)), y1, 'g',\n",
        "         range(len(y2)), y2, 'b')\n",
        "\n",
        "plt.show()"
      ],
      "metadata": {
        "colab": {
          "base_uri": "https://localhost:8080/",
          "height": 430
        },
        "id": "KUPHNMuJqYsJ",
        "outputId": "397206f1-42b6-4163-cded-bbd3d2f59dba"
      },
      "execution_count": null,
      "outputs": [
        {
          "output_type": "display_data",
          "data": {
            "text/plain": [
              "<Figure size 640x480 with 1 Axes>"
            ],
            "image/png": "[encoded data removed]"
          },
          "metadata": {}
        }
      ]
    },
    {
      "cell_type": "code",
      "source": [
        "y1 = history.history['accuracy']\n",
        "y2 = history.history['val_accuracy']\n",
        "plt.plot(range(len(y1)), y1, 'g',\n",
        "         range(len(y2)), y2, 'b')\n",
        "\n",
        "plt.show()"
      ],
      "metadata": {
        "colab": {
          "base_uri": "https://localhost:8080/",
          "height": 430
        },
        "id": "vDRFKSlxqYYI",
        "outputId": "47d7bd3f-2938-485a-ff41-f0627fdc6c10"
      },
      "execution_count": null,
      "outputs": [
        {
          "output_type": "display_data",
          "data": {
            "text/plain": [
              "<Figure size 640x480 with 1 Axes>"
            ],
            "image/png": "[encoded data removed]"
          },
          "metadata": {}
        }
      ]
    },
    {
      "cell_type": "code",
      "source": [
        "# Ini adalah fungsi yang merubah probabilitas vektor ke dalam\n",
        "# angka-angka diskrit yang kemudian dipergunakan sebagai basis\n",
        "# pencarian kata yang sesuai dengan kamus token\n",
        "\n",
        "def logits_to_text(logits, tokenizer):\n",
        "  index_to_words = {id: word for word, id in tokenizer.word_index.items()}\n",
        "  index_to_words[0] = ''\n",
        "  return ' '.join([index_to_words[prediction] for prediction in np.argmax(logits, 1)])"
      ],
      "metadata": {
        "id": "D-YdCadHsX0K"
      },
      "execution_count": null,
      "outputs": []
    },
    {
      "cell_type": "code",
      "source": [
        "kalimat_test = ['ih ih eh eh eh uh uh ah oh uh ah oh oh oh ah ih eh ih uh eh']\n",
        "kalimat_test = token_uh.texts_to_sequences(kalimat_test)\n",
        "kalimat_test = pad_sequences(kalimat_test, maxlen=20, padding='post')\n",
        "kalimat_test = kalimat_test.reshape(kalimat_test.shape[0], kalimat_test.shape[1],1)\n",
        "\n",
        "y_pred = model.predict(kalimat_test)\n",
        "print(logits_to_text(y_pred[0], token_ah))"
      ],
      "metadata": {
        "colab": {
          "base_uri": "https://localhost:8080/"
        },
        "id": "NiEcAY7Nuje_",
        "outputId": "5d0b7fa6-9761-4419-cd2b-8c5f40321ac5"
      },
      "execution_count": null,
      "outputs": [
        {
          "output_type": "stream",
          "name": "stdout",
          "text": [
            "1/1 [==============================] - 0s 302ms/step\n",
            "ih ihh eh ehh ehhh uh uhh ah oh uhhh ahh ohh ohhh ohhhh ahhh ihhh ehhhh ihhhh uhhhh ehhhhh\n"
          ]
        }
      ]
    },
    {
      "cell_type": "code",
      "source": [],
      "metadata": {
        "id": "g_Nz7DKDu7f2"
      },
      "execution_count": null,
      "outputs": []
    }
  ]
}